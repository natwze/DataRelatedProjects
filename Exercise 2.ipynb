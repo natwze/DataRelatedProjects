{
 "cells": [
  {
   "cell_type": "markdown",
   "id": "404a77de",
   "metadata": {},
   "source": [
    "# Rice Encoding"
   ]
  },
  {
   "cell_type": "markdown",
   "id": "a378ebd3",
   "metadata": {},
   "source": [
    "# Encoding\n",
    "1. Fix an integer value K.\n",
    "K = 4 or 2\n",
    "<br>\n",
    "2. Compute the modulus, M by using the equation  𝑀=2**K\n",
    "<br>\n",
    "3. For S, the number to be encoded, find<br>\n",
    "A. quotient =  𝑞=𝑖𝑛𝑡(𝑆/𝑀)<br>\n",
    "B. remainder =  𝑟=𝑆𝑚𝑜𝑑𝑢𝑙𝑜𝑀\n",
    "<br>\n",
    "4. Generate Codeword<br>\n",
    "A. The Quotient_Code is q in unary format.<br>\n",
    "B. The Remainder_Code is r in binary using K bits.<br>\n",
    "C. The Codeword will have the format <Quotient_Code> <Remainder_Code>\n",
    "\n",
    "# Decoding\n",
    "1. Determine q by counting the number of 1s before the first 0.<br>\n",
    "2. Determine r reading the next K bits as a binary value.<br>\n",
    "3. Write out S, the encoded number, as q × M + r.<br>"
   ]
  },
  {
   "cell_type": "code",
   "execution_count": 1,
   "id": "77698fff",
   "metadata": {},
   "outputs": [],
   "source": [
    "import numpy as np\n",
    "import math\n",
    "import sounddevice as sd\n",
    "import os\n",
    "from scipy.io import wavfile"
   ]
  },
  {
   "cell_type": "code",
   "execution_count": 2,
   "id": "c853f6f9",
   "metadata": {},
   "outputs": [],
   "source": [
    "def diy_rice_encoder(S, k):\n",
    "    # If sample value is negative, convert to positive\n",
    "    ## Store actual sign separately\n",
    "    if S < 0:\n",
    "        S = -S\n",
    "        sign = \"-\"\n",
    "    else:\n",
    "        sign = \"+\"\n",
    "\n",
    "    # Compute the modulus, M by using the equation  𝑀=2**k\n",
    "    M = 2**k\n",
    "\n",
    "    # For S, the number to be encoded, find\n",
    "    ## quotient =  𝑞 = 𝑖𝑛𝑡(𝑆/𝑀)\n",
    "    quotient = int(S//M)\n",
    "    ## remainder =  𝑟 = 𝑆𝑚𝑜𝑑𝑢𝑙𝑜𝑀\n",
    "    remainder = S%M\n",
    "\n",
    "    # Generate Codeword\n",
    "    quotient_code = \"1\"*quotient + \"0\"\n",
    "\n",
    "\n",
    "    # Write out r in binary\n",
    "    remainder_code = format(remainder, \"0{}b\".format(k))\n",
    "\n",
    "    # Encoded string\n",
    "    codeword = sign + quotient_code + \"0\" + str(remainder_code)\n",
    "\n",
    "    return codeword"
   ]
  },
  {
   "cell_type": "code",
   "execution_count": 3,
   "id": "1f9ae378",
   "metadata": {},
   "outputs": [],
   "source": [
    "def diy_rice_decoder(S, k):\n",
    "    # Remove the sign and store separately\n",
    "    sign = S[0]\n",
    "    S = S[1:]\n",
    "\n",
    "    # Compute the modulus, M by using the equation  𝑀=2**k\n",
    "    M = 2**k\n",
    "\n",
    "    # Separate quotient and remainder into a list of two items by spliting at the first 0\n",
    "    codeword = S.split(\"0\", 1)\n",
    "\n",
    "    # Determine q by counting the number of 1s before the first 0 \n",
    "    ## i.e. the length of the string in the first item of the list\n",
    "    q = len(codeword[0])\n",
    "\n",
    "    # Determine r reading the next K bits as a binary value.\n",
    "    ## i.e. take K bits from the second item and convert into decimal value\n",
    "    r = int(codeword[1][:k], 2)\n",
    "\n",
    "    # Write out S, the encoded number, as q × M + r.\n",
    "    S = q*M + r\n",
    "\n",
    "    # Change sign of the decoded bit back to actual sign\n",
    "    if sign == \"-\":\n",
    "        S = -S\n",
    "\n",
    "    return S"
   ]
  },
  {
   "cell_type": "code",
   "execution_count": 4,
   "id": "8c2b97ce",
   "metadata": {},
   "outputs": [],
   "source": [
    "def diy_audio_compress(filename,k):\n",
    "    # Read the audio file\n",
    "    sample_rate, audio = wavfile.read(filename)\n",
    "\n",
    "    # Play original audio\n",
    "    print(\"Playing audio from \"+filename)\n",
    "    sd.play(audio, sample_rate)\n",
    "\n",
    "    # Encode the audio file and save as <filename>_Enc.ex2.ex2\n",
    "    encoded_filename = filename.split(\".\")[0]+\"_Enc.ex2\"\n",
    "\n",
    "    with open(encoded_filename, \"wb\") as encodedfile:\n",
    "        for i in range(len(audio)):\n",
    "            encoded_data = diy_rice_encoder(audio[i], k) + \"\\n\"\n",
    "            #\n",
    "            encodedfile.write(encoded_data.encode())\n",
    "    encodedfile.close()\n",
    "    print(\"Audio successfully coded into file: \"+encoded_filename)\n",
    "    print(\"Sample Rate: \"+str(sample_rate))"
   ]
  },
  {
   "cell_type": "code",
   "execution_count": 5,
   "id": "1ec80d86",
   "metadata": {},
   "outputs": [],
   "source": [
    "def diy_audio_decompress(encoded_filename,k,sample_rate):\n",
    "    # Decode the encoded audio file\n",
    "    decoded_audio = []\n",
    "    with open(encoded_filename, \"rb\") as encodedfile:\n",
    "        for line in encodedfile:\n",
    "            decoded_audio.append(diy_rice_decoder(line.decode(\"utf8\").strip(), k))\n",
    "    encodedfile.close()\n",
    "    decoded_audio = np.array(decoded_audio, dtype=\"int16\")\n",
    "\n",
    "    # Play decoded audio data\n",
    "    print(\"Playing audio decoded from \"+encoded_filename)\n",
    "    sd.play(decoded_audio, sample_rate)\n",
    "\n",
    "    # Save decoded audio data into .wav format\n",
    "    decoded_filename = encoded_filename.split(\".\")[0]+\"Dec.wav\"\n",
    "    wavfile.write(decoded_filename, sample_rate, decoded_audio)"
   ]
  },
  {
   "cell_type": "markdown",
   "id": "179ea53f",
   "metadata": {},
   "source": [
    "# Compression and decompression with k = 4 bits"
   ]
  },
  {
   "cell_type": "code",
   "execution_count": 6,
   "id": "0b0bac23",
   "metadata": {},
   "outputs": [
    {
     "name": "stdout",
     "output_type": "stream",
     "text": [
      "File Size is : 979 kilobytes\n",
      "Playing audio from Sound1.wav\n",
      "Audio successfully coded into file: Sound1_Enc.ex2\n",
      "Sample Rate: 44100\n"
     ]
    }
   ],
   "source": [
    "file1 = \"Sound1.wav\"\n",
    "f1_size = math.ceil(os.path.getsize(file1)/1024)\n",
    "print(\"File Size is :\", f1_size, \"kilobytes\")\n",
    "diy_audio_compress(file1,4)"
   ]
  },
  {
   "cell_type": "code",
   "execution_count": 7,
   "id": "bf3ffee3",
   "metadata": {},
   "outputs": [
    {
     "name": "stdout",
     "output_type": "stream",
     "text": [
      "File Size is : 985 kilobytes\n",
      "Playing audio from Sound2.wav\n",
      "Audio successfully coded into file: Sound2_Enc.ex2\n",
      "Sample Rate: 44100\n"
     ]
    }
   ],
   "source": [
    "file2 = \"Sound2.wav\"\n",
    "f2_size = math.ceil(os.path.getsize(file2)/1024)\n",
    "print(\"File Size is :\", f2_size, \"kilobytes\")\n",
    "diy_audio_compress(file2,4)"
   ]
  },
  {
   "cell_type": "code",
   "execution_count": 8,
   "id": "bfe28e13",
   "metadata": {},
   "outputs": [
    {
     "name": "stdout",
     "output_type": "stream",
     "text": [
      "File Size is : 26106 kilobytes\n",
      "Playing audio decoded from Sound1_Enc.ex2\n"
     ]
    }
   ],
   "source": [
    "encfile1 = \"Sound1_Enc.ex2\"\n",
    "ef1_size = math.ceil(os.path.getsize(encfile1)/1024)\n",
    "print(\"File Size is :\", ef1_size, \"kilobytes\")\n",
    "diy_audio_decompress(encfile1,4,44100)"
   ]
  },
  {
   "cell_type": "code",
   "execution_count": 9,
   "id": "95ba546c",
   "metadata": {},
   "outputs": [
    {
     "name": "stdout",
     "output_type": "stream",
     "text": [
      "File Size is : 154436 kilobytes\n",
      "Playing audio decoded from Sound2_Enc.ex2\n"
     ]
    }
   ],
   "source": [
    "encfile2 = \"Sound2_Enc.ex2\"\n",
    "ef2_size = math.ceil(os.path.getsize(encfile2)/1024)\n",
    "print(\"File Size is :\", ef2_size, \"kilobytes\")\n",
    "diy_audio_decompress(encfile2,4,44100)"
   ]
  },
  {
   "cell_type": "code",
   "execution_count": 10,
   "id": "bca64724",
   "metadata": {},
   "outputs": [
    {
     "name": "stdout",
     "output_type": "stream",
     "text": [
      "Original size of Sound1.wav is 979 kilobytes\n",
      "Compressed size of Sound1.wav is 26106 kilobytes\n",
      "This is 2667 percent of the original file\n",
      "Original size of Sound2.wav is 985 kilobytes\n",
      "Compressed size of Sound2.wav is 154436 kilobytes\n",
      "This is 15679 percent of the original file\n"
     ]
    }
   ],
   "source": [
    "# calculate the percentage compression for file 1\n",
    "print(\"Original size of {} is {} kilobytes\".format(file1,f1_size))\n",
    "print(\"Compressed size of {} is {} kilobytes\".format(file1, ef1_size))\n",
    "percent_origin_1 = round(ef1_size/f1_size*100)\n",
    "print(\"This is {} percent of the original file\".format(percent_origin_1))\n",
    "\n",
    "# calculate the percentage compression for file 2\n",
    "print(\"Original size of {} is {} kilobytes\".format(file2,f2_size))\n",
    "print(\"Compressed size of {} is {} kilobytes\".format(file2, ef2_size))\n",
    "percent_origin_2 = round(ef2_size/f2_size*100)\n",
    "print(\"This is {} percent of the original file\".format(percent_origin_2))"
   ]
  },
  {
   "cell_type": "markdown",
   "id": "c3b44524",
   "metadata": {},
   "source": [
    "# Compression and decompression with k = 2 bits"
   ]
  },
  {
   "cell_type": "code",
   "execution_count": 11,
   "id": "5250e594",
   "metadata": {},
   "outputs": [
    {
     "name": "stdout",
     "output_type": "stream",
     "text": [
      "File Size is : 979 kilobytes\n",
      "Playing audio from Sound1.wav\n",
      "Audio successfully coded into file: Sound1_Enc.ex2\n",
      "Sample Rate: 44100\n"
     ]
    }
   ],
   "source": [
    "file1 = \"Sound1.wav\"\n",
    "f1_size = math.ceil(os.path.getsize(file1)/1024)\n",
    "print(\"File Size is :\", f1_size, \"kilobytes\")\n",
    "diy_audio_compress(file1,2)"
   ]
  },
  {
   "cell_type": "code",
   "execution_count": 12,
   "id": "635df2b4",
   "metadata": {},
   "outputs": [
    {
     "name": "stdout",
     "output_type": "stream",
     "text": [
      "File Size is : 985 kilobytes\n",
      "Playing audio from Sound2.wav\n",
      "Audio successfully coded into file: Sound2_Enc.ex2\n",
      "Sample Rate: 44100\n"
     ]
    }
   ],
   "source": [
    "file2 = \"Sound2.wav\"\n",
    "f2_size = math.ceil(os.path.getsize(file2)/1024)\n",
    "print(\"File Size is :\", f2_size, \"kilobytes\")\n",
    "diy_audio_compress(file2,2)"
   ]
  },
  {
   "cell_type": "code",
   "execution_count": 13,
   "id": "7fa5c19c",
   "metadata": {},
   "outputs": [
    {
     "name": "stdout",
     "output_type": "stream",
     "text": [
      "File Size is : 92255 kilobytes\n",
      "Playing audio decoded from Sound1_Enc.ex2\n"
     ]
    }
   ],
   "source": [
    "encfile1 = \"Sound1_Enc.ex2\"\n",
    "ef1_size = math.ceil(os.path.getsize(encfile1)/1024)\n",
    "print(\"File Size is :\", ef1_size, \"kilobytes\")\n",
    "diy_audio_decompress(encfile1,2,44100)"
   ]
  },
  {
   "cell_type": "code",
   "execution_count": 14,
   "id": "e6a1eedf",
   "metadata": {
    "scrolled": true
   },
   "outputs": [
    {
     "name": "stdout",
     "output_type": "stream",
     "text": [
      "File Size is : 605684 kilobytes\n",
      "Playing audio decoded from Sound2_Enc.ex2\n"
     ]
    }
   ],
   "source": [
    "encfile2 = \"Sound2_Enc.ex2\"\n",
    "ef2_size = math.ceil(os.path.getsize(encfile2)/1024)\n",
    "print(\"File Size is :\", ef2_size, \"kilobytes\")\n",
    "diy_audio_decompress(encfile2,2,44100)"
   ]
  },
  {
   "cell_type": "code",
   "execution_count": 15,
   "id": "42afd0fb",
   "metadata": {},
   "outputs": [
    {
     "name": "stdout",
     "output_type": "stream",
     "text": [
      "Original size of Sound1.wav is 979 kilobytes\n",
      "Compressed size of Sound1.wav is 92255 kilobytes\n",
      "This is 9423 percent of the original file\n",
      "Original size of Sound2.wav is 985 kilobytes\n",
      "Compressed size of Sound2.wav is 605684 kilobytes\n",
      "This is 61491 percent of the original file\n"
     ]
    }
   ],
   "source": [
    "# calculate the percentage compression for file 1\n",
    "print(\"Original size of {} is {} kilobytes\".format(file1,f1_size))\n",
    "print(\"Compressed size of {} is {} kilobytes\".format(file1, ef1_size))\n",
    "percent_origin_1 = round(ef1_size/f1_size*100)\n",
    "print(\"This is {} percent of the original file\".format(percent_origin_1))\n",
    "\n",
    "# calculate the percentage compression for file 2\n",
    "print(\"Original size of {} is {} kilobytes\".format(file2,f2_size))\n",
    "print(\"Compressed size of {} is {} kilobytes\".format(file2, ef2_size))\n",
    "percent_origin_2 = round(ef2_size/f2_size*100)\n",
    "print(\"This is {} percent of the original file\".format(percent_origin_2))"
   ]
  },
  {
   "cell_type": "markdown",
   "id": "f4838382",
   "metadata": {},
   "source": [
    "|  | Original Size | Rice (K = 4 bits) | Rice (K = 2 bits) | % Compression (K = 4 bits) | % Compression (K = 2 bits) |\n",
    "| --- | --- | --- | --- | --- | --- |\n",
    "| Sound1.wav | 979KB | 26106KB | 92255KB | 2667% of original | 9423% of original |\n",
    "| --- | --- | --- | --- | --- | --- |\n",
    "| Sound2.wav | 985KB | 154436KB | 605684KB | 15679% of original | 61491% of original |"
   ]
  },
  {
   "cell_type": "markdown",
   "id": "15579cc5",
   "metadata": {},
   "source": [
    "## Further development: Optimal K"
   ]
  },
  {
   "cell_type": "code",
   "execution_count": 16,
   "id": "9c6ac8ea",
   "metadata": {},
   "outputs": [],
   "source": [
    "def optimal_k_generator(filename):\n",
    "    # Read audio file\n",
    "    sample_rate, audio = wavfile.read(filename)\n",
    "\n",
    "    # Find the maximum absolute value of audio samples\n",
    "    max_value = max(abs(audio))\n",
    "    \n",
    "    # initialise two lists to store values\n",
    "    Qs = []\n",
    "    Rs = []\n",
    "    Ds = []\n",
    "\n",
    "    # Find the optimal k value\n",
    "    for i in range(1,17):\n",
    "        M = 2**i\n",
    "        R = max_value%M\n",
    "        Q = (max_value-R)/M\n",
    "        Qs.append(Q)\n",
    "        Rs.append(R)\n",
    "    for j in range(len(Qs)):\n",
    "        D = math.sqrt(((0-Qs[j])**2 + (0-Rs[j])**2))\n",
    "        Ds.append(D)\n",
    "    # add one to restore to a k value\n",
    "    best_case = Ds.index(min(Ds))+1\n",
    "    return best_case"
   ]
  },
  {
   "cell_type": "code",
   "execution_count": 19,
   "id": "efac2904",
   "metadata": {
    "scrolled": true
   },
   "outputs": [
    {
     "name": "stdout",
     "output_type": "stream",
     "text": [
      "7\n",
      "7\n"
     ]
    }
   ],
   "source": [
    "k1 = optimal_k_generator(file1)\n",
    "print(k1)\n",
    "k2 = optimal_k_generator(file2)\n",
    "print(k2)"
   ]
  },
  {
   "cell_type": "code",
   "execution_count": 21,
   "id": "abb0729d",
   "metadata": {},
   "outputs": [
    {
     "name": "stdout",
     "output_type": "stream",
     "text": [
      "File Size is : 979 kilobytes\n",
      "Playing audio from Sound1.wav\n",
      "Audio successfully coded into file: Sound1_Enc.ex2\n",
      "Sample Rate: 44100\n"
     ]
    }
   ],
   "source": [
    "f1_size = math.ceil(os.path.getsize(file1)/1024)\n",
    "print(\"File Size is :\", f1_size, \"kilobytes\")\n",
    "diy_audio_compress(file1,k1)"
   ]
  },
  {
   "cell_type": "code",
   "execution_count": 22,
   "id": "70c3106d",
   "metadata": {},
   "outputs": [
    {
     "name": "stdout",
     "output_type": "stream",
     "text": [
      "File Size is : 985 kilobytes\n",
      "Playing audio from Sound2.wav\n",
      "Audio successfully coded into file: Sound2_Enc.ex2\n",
      "Sample Rate: 44100\n"
     ]
    }
   ],
   "source": [
    "file2 = \"Sound2.wav\"\n",
    "f2_size = math.ceil(os.path.getsize(file2)/1024)\n",
    "print(\"File Size is :\", f2_size, \"kilobytes\")\n",
    "diy_audio_compress(file2,k2)"
   ]
  },
  {
   "cell_type": "code",
   "execution_count": 23,
   "id": "482d507a",
   "metadata": {},
   "outputs": [
    {
     "name": "stdout",
     "output_type": "stream",
     "text": [
      "File Size is : 8037 kilobytes\n",
      "Playing audio decoded from Sound1_Enc.ex2\n"
     ]
    }
   ],
   "source": [
    "encfile1 = \"Sound1_Enc.ex2\"\n",
    "ef1_size = math.ceil(os.path.getsize(encfile1)/1024)\n",
    "print(\"File Size is :\", ef1_size, \"kilobytes\")\n",
    "diy_audio_decompress(encfile1,k1,44100)"
   ]
  },
  {
   "cell_type": "code",
   "execution_count": 24,
   "id": "e79969b3",
   "metadata": {},
   "outputs": [
    {
     "name": "stdout",
     "output_type": "stream",
     "text": [
      "File Size is : 24012 kilobytes\n",
      "Playing audio decoded from Sound2_Enc.ex2\n"
     ]
    }
   ],
   "source": [
    "encfile2 = \"Sound2_Enc.ex2\"\n",
    "ef2_size = math.ceil(os.path.getsize(encfile2)/1024)\n",
    "print(\"File Size is :\", ef2_size, \"kilobytes\")\n",
    "diy_audio_decompress(encfile2,k2,44100)"
   ]
  },
  {
   "cell_type": "code",
   "execution_count": 25,
   "id": "f3f5f609",
   "metadata": {},
   "outputs": [
    {
     "name": "stdout",
     "output_type": "stream",
     "text": [
      "Original size of Sound1.wav is 979 kilobytes\n",
      "Compressed size of Sound1.wav is 8037 kilobytes\n",
      "This is 821 percent of the original file\n",
      "Original size of Sound2.wav is 985 kilobytes\n",
      "Compressed size of Sound2.wav is 24012 kilobytes\n",
      "This is 2438 percent of the original file\n"
     ]
    }
   ],
   "source": [
    "# calculate the percentage compression for file 1\n",
    "print(\"Original size of {} is {} kilobytes\".format(file1,f1_size))\n",
    "print(\"Compressed size of {} is {} kilobytes\".format(file1, ef1_size))\n",
    "percent_origin_1 = round(ef1_size/f1_size*100)\n",
    "print(\"This is {} percent of the original file\".format(percent_origin_1))\n",
    "\n",
    "# calculate the percentage compression for file 2\n",
    "print(\"Original size of {} is {} kilobytes\".format(file2,f2_size))\n",
    "print(\"Compressed size of {} is {} kilobytes\".format(file2, ef2_size))\n",
    "percent_origin_2 = round(ef2_size/f2_size*100)\n",
    "print(\"This is {} percent of the original file\".format(percent_origin_2))"
   ]
  }
 ],
 "metadata": {
  "kernelspec": {
   "display_name": "Python 3 (ipykernel)",
   "language": "python",
   "name": "python3"
  },
  "language_info": {
   "codemirror_mode": {
    "name": "ipython",
    "version": 3
   },
   "file_extension": ".py",
   "mimetype": "text/x-python",
   "name": "python",
   "nbconvert_exporter": "python",
   "pygments_lexer": "ipython3",
   "version": "3.9.16"
  }
 },
 "nbformat": 4,
 "nbformat_minor": 5
}
