{
 "cells": [
  {
   "cell_type": "markdown",
   "id": "a5cdeb90",
   "metadata": {},
   "source": [
    "# Binary Classifier Model for evaluating reviews"
   ]
  },
  {
   "cell_type": "markdown",
   "id": "1050b956",
   "metadata": {},
   "source": [
    "# Introduction"
   ]
  },
  {
   "cell_type": "markdown",
   "id": "f0a9e16c",
   "metadata": {},
   "source": [
    "In today's world, one's image is often more important than actual attributes. This image is subjective and is a result of how others perceive us. Similarly, reviews are a result of other people's perception of a product. \n",
    "\n",
    "Consumers often make use of reviews as a way to evaluate the image of a company, writing negative comments for what they view as a problem, like poor service, and positive comments for good things, like well-designed products. Companies have also attempted to translate these reviews into numerical values, giving consumers the ability to rate the product using numbers.\n",
    "\n",
    "However, due to the subjective nature of reviews, it can be difficult for consumers to accurately rate how they feel about a product using numbers. As such, the numbers used to rate a product may not be as precise as the comments written about the product. If there was a better way of classifying reviews into a more balanced and \"fair\" review of a product, both consumers and companies could benefit from an improved understanding about the general sentiment regarding a product."
   ]
  },
  {
   "cell_type": "markdown",
   "id": "4cd635f4",
   "metadata": {},
   "source": [
    "## Defining the problem and Assembling a dataset"
   ]
  },
  {
   "cell_type": "markdown",
   "id": "c4940d2e",
   "metadata": {},
   "source": [
    "### Defining the problem"
   ]
  },
  {
   "cell_type": "markdown",
   "id": "715a31e8",
   "metadata": {},
   "source": [
    "In order to produce a more \"fair\" evaluation of a product based on the actual comments written by consumers, I will be analysing the sentiments in the reviews of airlines. While service plays a major part in airline quality, it is also a very subjective topic. What one individual may find as pleasant and helpful, can be interpreted by another as intrusive and annoying. This makes it possible to find a wide range of responses with varying sentiments about airlines.\n",
    "\n",
    "By thoroughly analysing these reviews, it would increase our understanding of the emotions behind the comments, enabling us to sort reviews into categories. In this case, we will just be sorting them into positive and negative reviews.\n",
    "With time and feedback from companies and consumers, I think that this could be the foundations of a bot that would be able to give a fair evaluation of a product's overall image, just based on comments alone, without the need for an inaccurate numerical rating system."
   ]
  },
  {
   "cell_type": "markdown",
   "id": "3aed858e",
   "metadata": {},
   "source": [
    "### Assessing the data"
   ]
  },
  {
   "cell_type": "markdown",
   "id": "e80d9aee",
   "metadata": {},
   "source": [
    "The dataset used may not contain all reviews from every airline, and the reviews may mostly come from a limited group of countries. The dataset also consists of a mixture of verified and unverified reviews, which can make it difficult to identify genuine reviews."
   ]
  },
  {
   "cell_type": "markdown",
   "id": "78641765",
   "metadata": {},
   "source": [
    "### Assembling a dataset"
   ]
  },
  {
   "cell_type": "markdown",
   "id": "4f135e11",
   "metadata": {},
   "source": [
    "For the data I intend to use, I have taken a dataset of airline reviews from Kaggle. This dataset is an uncleaned comma-separated values(CSV) file, with a usability rating of 10.0 and licensing, CC0 1.0 Universal(CC0 1.0) Public Domain Dedication. \n",
    "\n",
    "The dataset is composed of 5 columns and 3418 rows of data. Specific columns and rows will be extracted from the dataset, which will be composed of reviews from verified trips only, in order to help filter out fake reviews. The numerical ratings will be removed and the comments will be put into the nltk library's of SentimentIntensityAnalyzer, where the polarity will decide whether the comments are positive or negative. "
   ]
  },
  {
   "cell_type": "markdown",
   "id": "f4c46a93",
   "metadata": {},
   "source": [
    "## Choosing a measure of success"
   ]
  },
  {
   "cell_type": "markdown",
   "id": "034ec683",
   "metadata": {},
   "source": [
    "For my binary classification model, success is determined by the Area under the ROC Curve(AUC) and the accuracy evaluation strategy of the model, with the AUC taking priority as the key indicator of the model's performance.\n",
    "\n",
    "AUC is the area under the curve which demonstrates the model’s ability to perform at all classification thresholds. It plots the True Positive Rate and False Positive Rate of the model across the different thresholds\n",
    "\n",
    "The imbalance of data is mild but present in the dataset, but will be resolved by oversampling, therefore precision and recall will not have to be closely monitored alongside the AUC and loss function.\n",
    "\n",
    "The loss function is a way of evaluating the ability of the algoirthm to model the dataset. It maps the values of the variables onto a real number, acting as an intuitive representation of the absolute difference between our prediction and the actual value.  \n",
    "\n",
    "The loss function and AUC will be plotted across the epochs to show the performance of the models built and will be used to determine the most optimal model."
   ]
  },
  {
   "cell_type": "markdown",
   "id": "f5004d42",
   "metadata": {},
   "source": [
    "### Deciding the evaluation protocol"
   ]
  },
  {
   "cell_type": "markdown",
   "id": "2b8433f5",
   "metadata": {},
   "source": [
    "An evaluation protocol is a set of guidelines that we can use to assess the performance of a machine learning model. \n",
    "It covers the steps for selecting the appropriate evaluation metrics, splitting the data into training and testing sets, tuning hyperparameters, and comparing the performance of different models.\n",
    "\n",
    "The evaluation protocol is crucial for ensuring that the performance of the machine learning model is evaluated fairly and accurately. It helps to prevent overfitting by ensuring that the model's performance is evaluated on unseen data, and it helps to identify the best performing model for the given problem. In a binary classification problem, evaluation metrics such as accuracy, precision, recall, and F1-score can be used.\n",
    "\n",
    "Overall, the evaluation protocol plays a critical role in ensuring that the performance of a machine learning model is evaluated fairly and accurately, and that the best model is selected for the given problem.\n",
    "\n",
    "For this dataset, I will be using both the holdout evaluation protocol and the K-fold cross-validation.\n",
    "The data will be split into training, testing, and validation sets, with a fixed proportion of the data allocated to each set. The model is trained on the training set, the hyperparameters are tuned on the validation set, and the test set is used to evaluate the performance. This protocol is simple and quick, and is able to run as the imbalance of data is fixed through oversampling.\n",
    "\n",
    "K-fold cross-validation will be used with GridSearchCV to trial the various hyperparameters and tune them to find the optimal hyperparameters for the best possible model. This will help to reduce the variance of the performance estimates. \n",
    "\n",
    "For this project, we will mainly be observing he hyperparameters:\n",
    "- Number of hidden layers\n",
    "- Number of neurons\n",
    "- Dropout value"
   ]
  },
  {
   "cell_type": "markdown",
   "id": "8f2399eb",
   "metadata": {},
   "source": [
    "## Preparing your data"
   ]
  },
  {
   "cell_type": "markdown",
   "id": "f6c9ae3a",
   "metadata": {},
   "source": [
    "I will be preparing my data by eliminating any irrelevant data from the dataset.\n",
    "The reviews will be cleaned and their verification status will be separated from their comments. Their comments will then be extracted through the use of Regular Expression, the Removal of Stopwords, and Lemmatisation.\n",
    "\n",
    "The polarity of the comments will be measured through sentiment analysis and the polarity scores will be classified as follows:\n",
    "- Negative: Less than 0\n",
    "- Positive: More than equals to 0"
   ]
  },
  {
   "cell_type": "markdown",
   "id": "d8b4369d",
   "metadata": {},
   "source": [
    "### Importing libraries"
   ]
  },
  {
   "cell_type": "code",
   "execution_count": 81,
   "id": "8291610a",
   "metadata": {},
   "outputs": [
    {
     "name": "stderr",
     "output_type": "stream",
     "text": [
      "[nltk_data] Downloading collection 'all'\n",
      "[nltk_data]    | \n",
      "[nltk_data]    | Downloading package abc to\n",
      "[nltk_data]    |     C:\\Users\\User\\AppData\\Roaming\\nltk_data...\n",
      "[nltk_data]    |   Package abc is already up-to-date!\n",
      "[nltk_data]    | Downloading package alpino to\n",
      "[nltk_data]    |     C:\\Users\\User\\AppData\\Roaming\\nltk_data...\n",
      "[nltk_data]    |   Package alpino is already up-to-date!\n",
      "[nltk_data]    | Downloading package averaged_perceptron_tagger to\n",
      "[nltk_data]    |     C:\\Users\\User\\AppData\\Roaming\\nltk_data...\n",
      "[nltk_data]    |   Package averaged_perceptron_tagger is already up-\n",
      "[nltk_data]    |       to-date!\n",
      "[nltk_data]    | Downloading package averaged_perceptron_tagger_ru to\n",
      "[nltk_data]    |     C:\\Users\\User\\AppData\\Roaming\\nltk_data...\n",
      "[nltk_data]    |   Package averaged_perceptron_tagger_ru is already\n",
      "[nltk_data]    |       up-to-date!\n",
      "[nltk_data]    | Downloading package basque_grammars to\n",
      "[nltk_data]    |     C:\\Users\\User\\AppData\\Roaming\\nltk_data...\n",
      "[nltk_data]    |   Package basque_grammars is already up-to-date!\n",
      "[nltk_data]    | Downloading package bcp47 to\n",
      "[nltk_data]    |     C:\\Users\\User\\AppData\\Roaming\\nltk_data...\n",
      "[nltk_data]    |   Package bcp47 is already up-to-date!\n",
      "[nltk_data]    | Downloading package biocreative_ppi to\n",
      "[nltk_data]    |     C:\\Users\\User\\AppData\\Roaming\\nltk_data...\n",
      "[nltk_data]    |   Package biocreative_ppi is already up-to-date!\n",
      "[nltk_data]    | Downloading package bllip_wsj_no_aux to\n",
      "[nltk_data]    |     C:\\Users\\User\\AppData\\Roaming\\nltk_data...\n",
      "[nltk_data]    |   Package bllip_wsj_no_aux is already up-to-date!\n",
      "[nltk_data]    | Downloading package book_grammars to\n",
      "[nltk_data]    |     C:\\Users\\User\\AppData\\Roaming\\nltk_data...\n",
      "[nltk_data]    |   Package book_grammars is already up-to-date!\n",
      "[nltk_data]    | Downloading package brown to\n",
      "[nltk_data]    |     C:\\Users\\User\\AppData\\Roaming\\nltk_data...\n",
      "[nltk_data]    |   Package brown is already up-to-date!\n",
      "[nltk_data]    | Downloading package brown_tei to\n",
      "[nltk_data]    |     C:\\Users\\User\\AppData\\Roaming\\nltk_data...\n",
      "[nltk_data]    |   Package brown_tei is already up-to-date!\n",
      "[nltk_data]    | Downloading package cess_cat to\n",
      "[nltk_data]    |     C:\\Users\\User\\AppData\\Roaming\\nltk_data...\n",
      "[nltk_data]    |   Package cess_cat is already up-to-date!\n",
      "[nltk_data]    | Downloading package cess_esp to\n",
      "[nltk_data]    |     C:\\Users\\User\\AppData\\Roaming\\nltk_data...\n",
      "[nltk_data]    |   Package cess_esp is already up-to-date!\n",
      "[nltk_data]    | Downloading package chat80 to\n",
      "[nltk_data]    |     C:\\Users\\User\\AppData\\Roaming\\nltk_data...\n",
      "[nltk_data]    |   Package chat80 is already up-to-date!\n",
      "[nltk_data]    | Downloading package city_database to\n",
      "[nltk_data]    |     C:\\Users\\User\\AppData\\Roaming\\nltk_data...\n",
      "[nltk_data]    |   Package city_database is already up-to-date!\n",
      "[nltk_data]    | Downloading package cmudict to\n",
      "[nltk_data]    |     C:\\Users\\User\\AppData\\Roaming\\nltk_data...\n",
      "[nltk_data]    |   Package cmudict is already up-to-date!\n",
      "[nltk_data]    | Downloading package comparative_sentences to\n",
      "[nltk_data]    |     C:\\Users\\User\\AppData\\Roaming\\nltk_data...\n",
      "[nltk_data]    |   Package comparative_sentences is already up-to-\n",
      "[nltk_data]    |       date!\n",
      "[nltk_data]    | Downloading package comtrans to\n",
      "[nltk_data]    |     C:\\Users\\User\\AppData\\Roaming\\nltk_data...\n",
      "[nltk_data]    |   Package comtrans is already up-to-date!\n",
      "[nltk_data]    | Downloading package conll2000 to\n",
      "[nltk_data]    |     C:\\Users\\User\\AppData\\Roaming\\nltk_data...\n",
      "[nltk_data]    |   Package conll2000 is already up-to-date!\n",
      "[nltk_data]    | Downloading package conll2002 to\n",
      "[nltk_data]    |     C:\\Users\\User\\AppData\\Roaming\\nltk_data...\n",
      "[nltk_data]    |   Package conll2002 is already up-to-date!\n",
      "[nltk_data]    | Downloading package conll2007 to\n",
      "[nltk_data]    |     C:\\Users\\User\\AppData\\Roaming\\nltk_data...\n",
      "[nltk_data]    |   Package conll2007 is already up-to-date!\n",
      "[nltk_data]    | Downloading package crubadan to\n",
      "[nltk_data]    |     C:\\Users\\User\\AppData\\Roaming\\nltk_data...\n",
      "[nltk_data]    |   Package crubadan is already up-to-date!\n",
      "[nltk_data]    | Downloading package dependency_treebank to\n",
      "[nltk_data]    |     C:\\Users\\User\\AppData\\Roaming\\nltk_data...\n",
      "[nltk_data]    |   Package dependency_treebank is already up-to-date!\n",
      "[nltk_data]    | Downloading package dolch to\n",
      "[nltk_data]    |     C:\\Users\\User\\AppData\\Roaming\\nltk_data...\n",
      "[nltk_data]    |   Package dolch is already up-to-date!\n",
      "[nltk_data]    | Downloading package europarl_raw to\n",
      "[nltk_data]    |     C:\\Users\\User\\AppData\\Roaming\\nltk_data...\n",
      "[nltk_data]    |   Package europarl_raw is already up-to-date!\n",
      "[nltk_data]    | Downloading package extended_omw to\n",
      "[nltk_data]    |     C:\\Users\\User\\AppData\\Roaming\\nltk_data...\n",
      "[nltk_data]    |   Package extended_omw is already up-to-date!\n",
      "[nltk_data]    | Downloading package floresta to\n",
      "[nltk_data]    |     C:\\Users\\User\\AppData\\Roaming\\nltk_data...\n",
      "[nltk_data]    |   Package floresta is already up-to-date!\n",
      "[nltk_data]    | Downloading package framenet_v15 to\n",
      "[nltk_data]    |     C:\\Users\\User\\AppData\\Roaming\\nltk_data...\n",
      "[nltk_data]    |   Package framenet_v15 is already up-to-date!\n",
      "[nltk_data]    | Downloading package framenet_v17 to\n",
      "[nltk_data]    |     C:\\Users\\User\\AppData\\Roaming\\nltk_data...\n",
      "[nltk_data]    |   Package framenet_v17 is already up-to-date!\n",
      "[nltk_data]    | Downloading package gazetteers to\n",
      "[nltk_data]    |     C:\\Users\\User\\AppData\\Roaming\\nltk_data...\n",
      "[nltk_data]    |   Package gazetteers is already up-to-date!\n",
      "[nltk_data]    | Downloading package genesis to\n",
      "[nltk_data]    |     C:\\Users\\User\\AppData\\Roaming\\nltk_data...\n",
      "[nltk_data]    |   Package genesis is already up-to-date!\n",
      "[nltk_data]    | Downloading package gutenberg to\n",
      "[nltk_data]    |     C:\\Users\\User\\AppData\\Roaming\\nltk_data...\n",
      "[nltk_data]    |   Package gutenberg is already up-to-date!\n",
      "[nltk_data]    | Downloading package ieer to\n",
      "[nltk_data]    |     C:\\Users\\User\\AppData\\Roaming\\nltk_data...\n",
      "[nltk_data]    |   Package ieer is already up-to-date!\n",
      "[nltk_data]    | Downloading package inaugural to\n",
      "[nltk_data]    |     C:\\Users\\User\\AppData\\Roaming\\nltk_data...\n",
      "[nltk_data]    |   Package inaugural is already up-to-date!\n",
      "[nltk_data]    | Downloading package indian to\n",
      "[nltk_data]    |     C:\\Users\\User\\AppData\\Roaming\\nltk_data...\n",
      "[nltk_data]    |   Package indian is already up-to-date!\n",
      "[nltk_data]    | Downloading package jeita to\n",
      "[nltk_data]    |     C:\\Users\\User\\AppData\\Roaming\\nltk_data...\n",
      "[nltk_data]    |   Package jeita is already up-to-date!\n",
      "[nltk_data]    | Downloading package kimmo to\n",
      "[nltk_data]    |     C:\\Users\\User\\AppData\\Roaming\\nltk_data...\n",
      "[nltk_data]    |   Package kimmo is already up-to-date!\n",
      "[nltk_data]    | Downloading package knbc to\n",
      "[nltk_data]    |     C:\\Users\\User\\AppData\\Roaming\\nltk_data...\n",
      "[nltk_data]    |   Package knbc is already up-to-date!\n",
      "[nltk_data]    | Downloading package large_grammars to\n",
      "[nltk_data]    |     C:\\Users\\User\\AppData\\Roaming\\nltk_data...\n",
      "[nltk_data]    |   Package large_grammars is already up-to-date!\n",
      "[nltk_data]    | Downloading package lin_thesaurus to\n",
      "[nltk_data]    |     C:\\Users\\User\\AppData\\Roaming\\nltk_data...\n",
      "[nltk_data]    |   Package lin_thesaurus is already up-to-date!\n",
      "[nltk_data]    | Downloading package mac_morpho to\n",
      "[nltk_data]    |     C:\\Users\\User\\AppData\\Roaming\\nltk_data...\n",
      "[nltk_data]    |   Package mac_morpho is already up-to-date!\n",
      "[nltk_data]    | Downloading package machado to\n",
      "[nltk_data]    |     C:\\Users\\User\\AppData\\Roaming\\nltk_data...\n",
      "[nltk_data]    |   Package machado is already up-to-date!\n",
      "[nltk_data]    | Downloading package masc_tagged to\n",
      "[nltk_data]    |     C:\\Users\\User\\AppData\\Roaming\\nltk_data...\n",
      "[nltk_data]    |   Package masc_tagged is already up-to-date!\n",
      "[nltk_data]    | Downloading package maxent_ne_chunker to\n",
      "[nltk_data]    |     C:\\Users\\User\\AppData\\Roaming\\nltk_data...\n",
      "[nltk_data]    |   Package maxent_ne_chunker is already up-to-date!\n",
      "[nltk_data]    | Downloading package maxent_treebank_pos_tagger to\n",
      "[nltk_data]    |     C:\\Users\\User\\AppData\\Roaming\\nltk_data...\n",
      "[nltk_data]    |   Package maxent_treebank_pos_tagger is already up-\n",
      "[nltk_data]    |       to-date!\n",
      "[nltk_data]    | Downloading package moses_sample to\n",
      "[nltk_data]    |     C:\\Users\\User\\AppData\\Roaming\\nltk_data...\n",
      "[nltk_data]    |   Package moses_sample is already up-to-date!\n",
      "[nltk_data]    | Downloading package movie_reviews to\n",
      "[nltk_data]    |     C:\\Users\\User\\AppData\\Roaming\\nltk_data...\n",
      "[nltk_data]    |   Package movie_reviews is already up-to-date!\n",
      "[nltk_data]    | Downloading package mte_teip5 to\n",
      "[nltk_data]    |     C:\\Users\\User\\AppData\\Roaming\\nltk_data...\n",
      "[nltk_data]    |   Package mte_teip5 is already up-to-date!\n",
      "[nltk_data]    | Downloading package mwa_ppdb to\n",
      "[nltk_data]    |     C:\\Users\\User\\AppData\\Roaming\\nltk_data...\n",
      "[nltk_data]    |   Package mwa_ppdb is already up-to-date!\n",
      "[nltk_data]    | Downloading package names to\n",
      "[nltk_data]    |     C:\\Users\\User\\AppData\\Roaming\\nltk_data...\n",
      "[nltk_data]    |   Package names is already up-to-date!\n",
      "[nltk_data]    | Downloading package nombank.1.0 to\n",
      "[nltk_data]    |     C:\\Users\\User\\AppData\\Roaming\\nltk_data...\n",
      "[nltk_data]    |   Package nombank.1.0 is already up-to-date!\n",
      "[nltk_data]    | Downloading package nonbreaking_prefixes to\n",
      "[nltk_data]    |     C:\\Users\\User\\AppData\\Roaming\\nltk_data...\n",
      "[nltk_data]    |   Package nonbreaking_prefixes is already up-to-date!\n",
      "[nltk_data]    | Downloading package nps_chat to\n",
      "[nltk_data]    |     C:\\Users\\User\\AppData\\Roaming\\nltk_data...\n",
      "[nltk_data]    |   Package nps_chat is already up-to-date!\n",
      "[nltk_data]    | Downloading package omw to\n",
      "[nltk_data]    |     C:\\Users\\User\\AppData\\Roaming\\nltk_data...\n",
      "[nltk_data]    |   Package omw is already up-to-date!\n",
      "[nltk_data]    | Downloading package omw-1.4 to\n",
      "[nltk_data]    |     C:\\Users\\User\\AppData\\Roaming\\nltk_data...\n",
      "[nltk_data]    |   Package omw-1.4 is already up-to-date!\n",
      "[nltk_data]    | Downloading package opinion_lexicon to\n",
      "[nltk_data]    |     C:\\Users\\User\\AppData\\Roaming\\nltk_data...\n",
      "[nltk_data]    |   Package opinion_lexicon is already up-to-date!\n",
      "[nltk_data]    | Downloading package panlex_swadesh to\n",
      "[nltk_data]    |     C:\\Users\\User\\AppData\\Roaming\\nltk_data...\n",
      "[nltk_data]    |   Package panlex_swadesh is already up-to-date!\n",
      "[nltk_data]    | Downloading package paradigms to\n",
      "[nltk_data]    |     C:\\Users\\User\\AppData\\Roaming\\nltk_data...\n",
      "[nltk_data]    |   Package paradigms is already up-to-date!\n",
      "[nltk_data]    | Downloading package pe08 to\n",
      "[nltk_data]    |     C:\\Users\\User\\AppData\\Roaming\\nltk_data...\n",
      "[nltk_data]    |   Package pe08 is already up-to-date!\n",
      "[nltk_data]    | Downloading package perluniprops to\n",
      "[nltk_data]    |     C:\\Users\\User\\AppData\\Roaming\\nltk_data...\n",
      "[nltk_data]    |   Package perluniprops is already up-to-date!\n",
      "[nltk_data]    | Downloading package pil to\n",
      "[nltk_data]    |     C:\\Users\\User\\AppData\\Roaming\\nltk_data...\n",
      "[nltk_data]    |   Package pil is already up-to-date!\n",
      "[nltk_data]    | Downloading package pl196x to\n",
      "[nltk_data]    |     C:\\Users\\User\\AppData\\Roaming\\nltk_data...\n",
      "[nltk_data]    |   Package pl196x is already up-to-date!\n",
      "[nltk_data]    | Downloading package porter_test to\n",
      "[nltk_data]    |     C:\\Users\\User\\AppData\\Roaming\\nltk_data...\n",
      "[nltk_data]    |   Package porter_test is already up-to-date!\n",
      "[nltk_data]    | Downloading package ppattach to\n",
      "[nltk_data]    |     C:\\Users\\User\\AppData\\Roaming\\nltk_data...\n",
      "[nltk_data]    |   Package ppattach is already up-to-date!\n",
      "[nltk_data]    | Downloading package problem_reports to\n",
      "[nltk_data]    |     C:\\Users\\User\\AppData\\Roaming\\nltk_data...\n",
      "[nltk_data]    |   Package problem_reports is already up-to-date!\n",
      "[nltk_data]    | Downloading package product_reviews_1 to\n",
      "[nltk_data]    |     C:\\Users\\User\\AppData\\Roaming\\nltk_data...\n",
      "[nltk_data]    |   Package product_reviews_1 is already up-to-date!\n",
      "[nltk_data]    | Downloading package product_reviews_2 to\n",
      "[nltk_data]    |     C:\\Users\\User\\AppData\\Roaming\\nltk_data...\n",
      "[nltk_data]    |   Package product_reviews_2 is already up-to-date!\n",
      "[nltk_data]    | Downloading package propbank to\n",
      "[nltk_data]    |     C:\\Users\\User\\AppData\\Roaming\\nltk_data...\n",
      "[nltk_data]    |   Package propbank is already up-to-date!\n",
      "[nltk_data]    | Downloading package pros_cons to\n",
      "[nltk_data]    |     C:\\Users\\User\\AppData\\Roaming\\nltk_data...\n",
      "[nltk_data]    |   Package pros_cons is already up-to-date!\n",
      "[nltk_data]    | Downloading package ptb to\n",
      "[nltk_data]    |     C:\\Users\\User\\AppData\\Roaming\\nltk_data...\n",
      "[nltk_data]    |   Package ptb is already up-to-date!\n",
      "[nltk_data]    | Downloading package punkt to\n",
      "[nltk_data]    |     C:\\Users\\User\\AppData\\Roaming\\nltk_data...\n",
      "[nltk_data]    |   Package punkt is already up-to-date!\n",
      "[nltk_data]    | Downloading package qc to\n",
      "[nltk_data]    |     C:\\Users\\User\\AppData\\Roaming\\nltk_data...\n",
      "[nltk_data]    |   Package qc is already up-to-date!\n",
      "[nltk_data]    | Downloading package reuters to\n",
      "[nltk_data]    |     C:\\Users\\User\\AppData\\Roaming\\nltk_data...\n",
      "[nltk_data]    |   Package reuters is already up-to-date!\n",
      "[nltk_data]    | Downloading package rslp to\n",
      "[nltk_data]    |     C:\\Users\\User\\AppData\\Roaming\\nltk_data...\n",
      "[nltk_data]    |   Package rslp is already up-to-date!\n",
      "[nltk_data]    | Downloading package rte to\n",
      "[nltk_data]    |     C:\\Users\\User\\AppData\\Roaming\\nltk_data...\n",
      "[nltk_data]    |   Package rte is already up-to-date!\n",
      "[nltk_data]    | Downloading package sample_grammars to\n",
      "[nltk_data]    |     C:\\Users\\User\\AppData\\Roaming\\nltk_data...\n",
      "[nltk_data]    |   Package sample_grammars is already up-to-date!\n",
      "[nltk_data]    | Downloading package semcor to\n",
      "[nltk_data]    |     C:\\Users\\User\\AppData\\Roaming\\nltk_data...\n",
      "[nltk_data]    |   Package semcor is already up-to-date!\n",
      "[nltk_data]    | Downloading package senseval to\n",
      "[nltk_data]    |     C:\\Users\\User\\AppData\\Roaming\\nltk_data...\n",
      "[nltk_data]    |   Package senseval is already up-to-date!\n",
      "[nltk_data]    | Downloading package sentence_polarity to\n",
      "[nltk_data]    |     C:\\Users\\User\\AppData\\Roaming\\nltk_data...\n",
      "[nltk_data]    |   Package sentence_polarity is already up-to-date!\n",
      "[nltk_data]    | Downloading package sentiwordnet to\n",
      "[nltk_data]    |     C:\\Users\\User\\AppData\\Roaming\\nltk_data...\n",
      "[nltk_data]    |   Package sentiwordnet is already up-to-date!\n",
      "[nltk_data]    | Downloading package shakespeare to\n",
      "[nltk_data]    |     C:\\Users\\User\\AppData\\Roaming\\nltk_data...\n",
      "[nltk_data]    |   Package shakespeare is already up-to-date!\n",
      "[nltk_data]    | Downloading package sinica_treebank to\n",
      "[nltk_data]    |     C:\\Users\\User\\AppData\\Roaming\\nltk_data...\n",
      "[nltk_data]    |   Package sinica_treebank is already up-to-date!\n",
      "[nltk_data]    | Downloading package smultron to\n",
      "[nltk_data]    |     C:\\Users\\User\\AppData\\Roaming\\nltk_data...\n",
      "[nltk_data]    |   Package smultron is already up-to-date!\n",
      "[nltk_data]    | Downloading package snowball_data to\n",
      "[nltk_data]    |     C:\\Users\\User\\AppData\\Roaming\\nltk_data...\n",
      "[nltk_data]    |   Package snowball_data is already up-to-date!\n",
      "[nltk_data]    | Downloading package spanish_grammars to\n",
      "[nltk_data]    |     C:\\Users\\User\\AppData\\Roaming\\nltk_data...\n",
      "[nltk_data]    |   Package spanish_grammars is already up-to-date!\n",
      "[nltk_data]    | Downloading package state_union to\n",
      "[nltk_data]    |     C:\\Users\\User\\AppData\\Roaming\\nltk_data...\n",
      "[nltk_data]    |   Package state_union is already up-to-date!\n",
      "[nltk_data]    | Downloading package stopwords to\n",
      "[nltk_data]    |     C:\\Users\\User\\AppData\\Roaming\\nltk_data...\n",
      "[nltk_data]    |   Package stopwords is already up-to-date!\n",
      "[nltk_data]    | Downloading package subjectivity to\n",
      "[nltk_data]    |     C:\\Users\\User\\AppData\\Roaming\\nltk_data...\n",
      "[nltk_data]    |   Package subjectivity is already up-to-date!\n",
      "[nltk_data]    | Downloading package swadesh to\n",
      "[nltk_data]    |     C:\\Users\\User\\AppData\\Roaming\\nltk_data...\n",
      "[nltk_data]    |   Package swadesh is already up-to-date!\n",
      "[nltk_data]    | Downloading package switchboard to\n",
      "[nltk_data]    |     C:\\Users\\User\\AppData\\Roaming\\nltk_data...\n",
      "[nltk_data]    |   Package switchboard is already up-to-date!\n",
      "[nltk_data]    | Downloading package tagsets to\n",
      "[nltk_data]    |     C:\\Users\\User\\AppData\\Roaming\\nltk_data...\n",
      "[nltk_data]    |   Package tagsets is already up-to-date!\n",
      "[nltk_data]    | Downloading package timit to\n",
      "[nltk_data]    |     C:\\Users\\User\\AppData\\Roaming\\nltk_data...\n",
      "[nltk_data]    |   Package timit is already up-to-date!\n",
      "[nltk_data]    | Downloading package toolbox to\n",
      "[nltk_data]    |     C:\\Users\\User\\AppData\\Roaming\\nltk_data...\n",
      "[nltk_data]    |   Package toolbox is already up-to-date!\n",
      "[nltk_data]    | Downloading package treebank to\n",
      "[nltk_data]    |     C:\\Users\\User\\AppData\\Roaming\\nltk_data...\n",
      "[nltk_data]    |   Package treebank is already up-to-date!\n",
      "[nltk_data]    | Downloading package twitter_samples to\n",
      "[nltk_data]    |     C:\\Users\\User\\AppData\\Roaming\\nltk_data...\n",
      "[nltk_data]    |   Package twitter_samples is already up-to-date!\n",
      "[nltk_data]    | Downloading package udhr to\n",
      "[nltk_data]    |     C:\\Users\\User\\AppData\\Roaming\\nltk_data...\n",
      "[nltk_data]    |   Package udhr is already up-to-date!\n",
      "[nltk_data]    | Downloading package udhr2 to\n",
      "[nltk_data]    |     C:\\Users\\User\\AppData\\Roaming\\nltk_data...\n",
      "[nltk_data]    |   Package udhr2 is already up-to-date!\n",
      "[nltk_data]    | Downloading package unicode_samples to\n",
      "[nltk_data]    |     C:\\Users\\User\\AppData\\Roaming\\nltk_data...\n",
      "[nltk_data]    |   Package unicode_samples is already up-to-date!\n",
      "[nltk_data]    | Downloading package universal_tagset to\n",
      "[nltk_data]    |     C:\\Users\\User\\AppData\\Roaming\\nltk_data...\n",
      "[nltk_data]    |   Package universal_tagset is already up-to-date!\n",
      "[nltk_data]    | Downloading package universal_treebanks_v20 to\n",
      "[nltk_data]    |     C:\\Users\\User\\AppData\\Roaming\\nltk_data...\n",
      "[nltk_data]    |   Package universal_treebanks_v20 is already up-to-\n",
      "[nltk_data]    |       date!\n",
      "[nltk_data]    | Downloading package vader_lexicon to\n",
      "[nltk_data]    |     C:\\Users\\User\\AppData\\Roaming\\nltk_data...\n",
      "[nltk_data]    |   Package vader_lexicon is already up-to-date!\n",
      "[nltk_data]    | Downloading package verbnet to\n",
      "[nltk_data]    |     C:\\Users\\User\\AppData\\Roaming\\nltk_data...\n",
      "[nltk_data]    |   Package verbnet is already up-to-date!\n",
      "[nltk_data]    | Downloading package verbnet3 to\n",
      "[nltk_data]    |     C:\\Users\\User\\AppData\\Roaming\\nltk_data...\n",
      "[nltk_data]    |   Package verbnet3 is already up-to-date!\n",
      "[nltk_data]    | Downloading package webtext to\n",
      "[nltk_data]    |     C:\\Users\\User\\AppData\\Roaming\\nltk_data...\n",
      "[nltk_data]    |   Package webtext is already up-to-date!\n",
      "[nltk_data]    | Downloading package wmt15_eval to\n",
      "[nltk_data]    |     C:\\Users\\User\\AppData\\Roaming\\nltk_data...\n",
      "[nltk_data]    |   Package wmt15_eval is already up-to-date!\n",
      "[nltk_data]    | Downloading package word2vec_sample to\n",
      "[nltk_data]    |     C:\\Users\\User\\AppData\\Roaming\\nltk_data...\n",
      "[nltk_data]    |   Package word2vec_sample is already up-to-date!\n",
      "[nltk_data]    | Downloading package wordnet to\n",
      "[nltk_data]    |     C:\\Users\\User\\AppData\\Roaming\\nltk_data...\n",
      "[nltk_data]    |   Package wordnet is already up-to-date!\n",
      "[nltk_data]    | Downloading package wordnet2021 to\n",
      "[nltk_data]    |     C:\\Users\\User\\AppData\\Roaming\\nltk_data...\n",
      "[nltk_data]    |   Package wordnet2021 is already up-to-date!\n",
      "[nltk_data]    | Downloading package wordnet2022 to\n",
      "[nltk_data]    |     C:\\Users\\User\\AppData\\Roaming\\nltk_data...\n",
      "[nltk_data]    |   Package wordnet2022 is already up-to-date!\n",
      "[nltk_data]    | Downloading package wordnet31 to\n",
      "[nltk_data]    |     C:\\Users\\User\\AppData\\Roaming\\nltk_data...\n",
      "[nltk_data]    |   Package wordnet31 is already up-to-date!\n",
      "[nltk_data]    | Downloading package wordnet_ic to\n",
      "[nltk_data]    |     C:\\Users\\User\\AppData\\Roaming\\nltk_data...\n",
      "[nltk_data]    |   Package wordnet_ic is already up-to-date!\n",
      "[nltk_data]    | Downloading package words to\n",
      "[nltk_data]    |     C:\\Users\\User\\AppData\\Roaming\\nltk_data...\n",
      "[nltk_data]    |   Package words is already up-to-date!\n",
      "[nltk_data]    | Downloading package ycoe to\n",
      "[nltk_data]    |     C:\\Users\\User\\AppData\\Roaming\\nltk_data...\n",
      "[nltk_data]    |   Package ycoe is already up-to-date!\n",
      "[nltk_data]    | \n",
      "[nltk_data]  Done downloading collection all\n",
      "[nltk_data] Downloading package vader_lexicon to\n",
      "[nltk_data]     C:\\Users\\User\\AppData\\Roaming\\nltk_data...\n",
      "[nltk_data]   Package vader_lexicon is already up-to-date!\n",
      "[nltk_data] Downloading package stopwords to\n",
      "[nltk_data]     C:\\Users\\User\\AppData\\Roaming\\nltk_data...\n",
      "[nltk_data]   Package stopwords is already up-to-date!\n",
      "[nltk_data] Downloading package wordnet to\n",
      "[nltk_data]     C:\\Users\\User\\AppData\\Roaming\\nltk_data...\n",
      "[nltk_data]   Package wordnet is already up-to-date!\n",
      "[nltk_data] Downloading package stopwords to\n",
      "[nltk_data]     C:\\Users\\User\\AppData\\Roaming\\nltk_data...\n",
      "[nltk_data]   Package stopwords is already up-to-date!\n"
     ]
    }
   ],
   "source": [
    "# Building the Deep Learning model for text classification\n",
    "from tensorflow.keras import models, layers\n",
    "import tensorflow as tf\n",
    "\n",
    "# Data visualisations\n",
    "import pandas as pd\n",
    "import matplotlib.pyplot as plt\n",
    "from matplotlib import pyplot\n",
    "import seaborn as sns\n",
    "\n",
    "# Statistics\n",
    "import numpy as np\n",
    "from numpy import where\n",
    "\n",
    "# Regularizations\n",
    "from tensorflow.keras import regularizers \n",
    "from keras.preprocessing.text import Tokenizer\n",
    "from keras_preprocessing.sequence import pad_sequences\n",
    "from keras.utils import np_utils\n",
    "from keras.utils.np_utils import to_categorical\n",
    "from sklearn import preprocessing\n",
    "\n",
    "# Evaluation\n",
    "from sklearn.metrics import balanced_accuracy_score,confusion_matrix, precision_score, recall_score\n",
    "\n",
    "# Model optimization methods \n",
    "from tensorflow.keras.callbacks import ReduceLROnPlateau, EarlyStopping\n",
    "\n",
    "# Text analysis\n",
    "import re\n",
    "import string\n",
    "from nltk.corpus import stopwords\n",
    "from nltk.tokenize import word_tokenize\n",
    "from nltk.stem import WordNetLemmatizer\n",
    "from textblob import TextBlob\n",
    "from nltk.sentiment.vader import SentimentIntensityAnalyzer\n",
    "\n",
    "# Feature Extraction\n",
    "from sklearn.feature_extraction.text import CountVectorizer, TfidfVectorizer\n",
    "from sklearn.utils.class_weight import compute_class_weight\n",
    "#Stop words\n",
    "import nltk\n",
    "nltk.download('all')\n",
    "nltk.download('vader_lexicon')\n",
    "nltk.download('stopwords')\n",
    "nltk.download('wordnet')\n",
    "nltk.download('stopwords')\n",
    "\n",
    "# Data preprocessing\n",
    "from sklearn.model_selection import train_test_split\n",
    "from sklearn.preprocessing import LabelEncoder\n",
    "\n",
    "# Text classification\n",
    "from gensim.models import Word2Vec\n",
    "\n",
    "# SMOTE - resampling imbalanced data\n",
    "from imblearn.over_sampling import SMOTE\n",
    "import collections\n",
    "from collections import Counter\n",
    "\n",
    "# Model Layers\n",
    "from tensorflow.keras.models import Sequential\n",
    "from tensorflow.keras.layers import Dropout, Dense\n",
    "from tensorflow.keras.optimizers import RMSprop\n",
    "\n",
    "from keras.utils import to_categorical\n",
    "\n",
    "# Setting initial variables\n",
    "SEED = 321\n",
    "tf.random.set_seed(SEED)\n",
    "np.random.seed(SEED)\n",
    "\n",
    "import warnings\n",
    "warnings.filterwarnings('ignore')\n",
    "\n",
    "import itertools    \n",
    "from sklearn.model_selection import StratifiedKFold\n",
    "from sklearn.metrics import accuracy_score,roc_auc_score,ConfusionMatrixDisplay"
   ]
  },
  {
   "cell_type": "markdown",
   "id": "9b113855",
   "metadata": {},
   "source": [
    "### Retrieving the airline data dataset"
   ]
  },
  {
   "cell_type": "code",
   "execution_count": 82,
   "id": "5943c876",
   "metadata": {},
   "outputs": [],
   "source": [
    "# create the dataframe\n",
    "df = pd.read_csv('airline_data.csv')"
   ]
  },
  {
   "cell_type": "markdown",
   "id": "9287d5e5",
   "metadata": {},
   "source": [
    "### Inspecting dataset"
   ]
  },
  {
   "cell_type": "code",
   "execution_count": 83,
   "id": "9303c0e4",
   "metadata": {},
   "outputs": [
    {
     "data": {
      "text/html": [
       "<div>\n",
       "<style scoped>\n",
       "    .dataframe tbody tr th:only-of-type {\n",
       "        vertical-align: middle;\n",
       "    }\n",
       "\n",
       "    .dataframe tbody tr th {\n",
       "        vertical-align: top;\n",
       "    }\n",
       "\n",
       "    .dataframe thead th {\n",
       "        text-align: right;\n",
       "    }\n",
       "</style>\n",
       "<table border=\"1\" class=\"dataframe\">\n",
       "  <thead>\n",
       "    <tr style=\"text-align: right;\">\n",
       "      <th></th>\n",
       "      <th>Unnamed: 0</th>\n",
       "      <th>reviews</th>\n",
       "      <th>rates</th>\n",
       "      <th>date</th>\n",
       "      <th>country</th>\n",
       "    </tr>\n",
       "  </thead>\n",
       "  <tbody>\n",
       "    <tr>\n",
       "      <th>0</th>\n",
       "      <td>0</td>\n",
       "      <td>✅ Trip Verified | Excellent service both on th...</td>\n",
       "      <td>\\n\\t\\t\\t\\t\\t\\t\\t\\t\\t\\t\\t\\t\\t5</td>\n",
       "      <td>24th January 2023</td>\n",
       "      <td>United Kingdom</td>\n",
       "    </tr>\n",
       "    <tr>\n",
       "      <th>1</th>\n",
       "      <td>1</td>\n",
       "      <td>✅ Trip Verified |  Good lounge at Cape Town. O...</td>\n",
       "      <td>9</td>\n",
       "      <td>24th January 2023</td>\n",
       "      <td>United Kingdom</td>\n",
       "    </tr>\n",
       "    <tr>\n",
       "      <th>2</th>\n",
       "      <td>2</td>\n",
       "      <td>✅ Trip Verified |  A really excellent journey....</td>\n",
       "      <td>9</td>\n",
       "      <td>23rd January 2023</td>\n",
       "      <td>United Kingdom</td>\n",
       "    </tr>\n",
       "    <tr>\n",
       "      <th>3</th>\n",
       "      <td>3</td>\n",
       "      <td>✅ Trip Verified |  This flight was one of the ...</td>\n",
       "      <td>9</td>\n",
       "      <td>21st January 2023</td>\n",
       "      <td>United Kingdom</td>\n",
       "    </tr>\n",
       "    <tr>\n",
       "      <th>4</th>\n",
       "      <td>4</td>\n",
       "      <td>Not Verified | It seems that there is a race t...</td>\n",
       "      <td>2</td>\n",
       "      <td>19th January 2023</td>\n",
       "      <td>United States</td>\n",
       "    </tr>\n",
       "  </tbody>\n",
       "</table>\n",
       "</div>"
      ],
      "text/plain": [
       "   Unnamed: 0                                            reviews  \\\n",
       "0           0  ✅ Trip Verified | Excellent service both on th...   \n",
       "1           1  ✅ Trip Verified |  Good lounge at Cape Town. O...   \n",
       "2           2  ✅ Trip Verified |  A really excellent journey....   \n",
       "3           3  ✅ Trip Verified |  This flight was one of the ...   \n",
       "4           4  Not Verified | It seems that there is a race t...   \n",
       "\n",
       "                           rates               date         country  \n",
       "0  \\n\\t\\t\\t\\t\\t\\t\\t\\t\\t\\t\\t\\t\\t5  24th January 2023  United Kingdom  \n",
       "1                              9  24th January 2023  United Kingdom  \n",
       "2                              9  23rd January 2023  United Kingdom  \n",
       "3                              9  21st January 2023  United Kingdom  \n",
       "4                              2  19th January 2023   United States  "
      ]
     },
     "execution_count": 83,
     "metadata": {},
     "output_type": "execute_result"
    }
   ],
   "source": [
    "df.head()"
   ]
  },
  {
   "cell_type": "code",
   "execution_count": 84,
   "id": "127b13c3",
   "metadata": {
    "scrolled": false
   },
   "outputs": [
    {
     "name": "stdout",
     "output_type": "stream",
     "text": [
      "<class 'pandas.core.frame.DataFrame'>\n",
      "RangeIndex: 3418 entries, 0 to 3417\n",
      "Data columns (total 5 columns):\n",
      " #   Column      Non-Null Count  Dtype \n",
      "---  ------      --------------  ----- \n",
      " 0   Unnamed: 0  3418 non-null   int64 \n",
      " 1   reviews     3418 non-null   object\n",
      " 2   rates       3418 non-null   object\n",
      " 3   date        3418 non-null   object\n",
      " 4   country     3416 non-null   object\n",
      "dtypes: int64(1), object(4)\n",
      "memory usage: 133.6+ KB\n"
     ]
    }
   ],
   "source": [
    "df.info()"
   ]
  },
  {
   "cell_type": "markdown",
   "id": "1b08ca1d",
   "metadata": {},
   "source": [
    "### Preprocessing Data"
   ]
  },
  {
   "cell_type": "markdown",
   "id": "b7e5e7db",
   "metadata": {},
   "source": [
    "#### Cleaning the data and extracting comments (modified from original Kaggle)"
   ]
  },
  {
   "cell_type": "markdown",
   "id": "5b13f077",
   "metadata": {},
   "source": [
    "First, we check which comments are verified"
   ]
  },
  {
   "cell_type": "code",
   "execution_count": 85,
   "id": "6b1ab29a",
   "metadata": {},
   "outputs": [],
   "source": [
    "df['verified'] = df.reviews.str.contains(\"Trip Verified\")"
   ]
  },
  {
   "cell_type": "code",
   "execution_count": 86,
   "id": "61a5c9f4",
   "metadata": {
    "scrolled": true
   },
   "outputs": [
    {
     "data": {
      "text/plain": [
       "False    2442\n",
       "True      976\n",
       "Name: verified, dtype: int64"
      ]
     },
     "execution_count": 86,
     "metadata": {},
     "output_type": "execute_result"
    }
   ],
   "source": [
    "df.verified.value_counts()"
   ]
  },
  {
   "cell_type": "code",
   "execution_count": 87,
   "id": "4679850b",
   "metadata": {},
   "outputs": [],
   "source": [
    "# preparing all reviews for processing (original code)\n",
    "for rev in df.reviews:\n",
    "    if \"Verified\" not in rev:\n",
    "        df.reviews.replace(rev, \"|\"+rev, inplace=True) "
   ]
  },
  {
   "cell_type": "markdown",
   "id": "69f9e99b",
   "metadata": {},
   "source": [
    "Next we will lemmatize the comments and further clean the data"
   ]
  },
  {
   "cell_type": "code",
   "execution_count": 88,
   "id": "54d8481d",
   "metadata": {},
   "outputs": [],
   "source": [
    "# for lemmatization of words we will use nltk library\n",
    "lemma = WordNetLemmatizer()\n",
    "\n",
    "# use split instead to remove verified (original code)\n",
    "reviews_data = df.reviews.str.split(\"|\", expand=True).drop(0, axis=1)[1].tolist()\n",
    "\n",
    "# create an empty list to collect cleaned data corpus\n",
    "comments =[]\n",
    "\n",
    "# loop through each review, remove punctuations, small case it, join it and add it to corpus\n",
    "for rev in reviews_data:\n",
    "    rev = re.sub('[^a-zA-Z]',' ', rev)\n",
    "    rev = rev.lower()\n",
    "    rev = rev.split()\n",
    "    rev = [lemma.lemmatize(word) for word in rev if word not in set(stopwords.words(\"english\"))]\n",
    "    rev = \" \".join(rev)\n",
    "    comments.append(rev)"
   ]
  },
  {
   "cell_type": "code",
   "execution_count": 89,
   "id": "962fb569",
   "metadata": {},
   "outputs": [],
   "source": [
    "# add the corpus to the original dataframe\n",
    "\n",
    "df['comments'] = comments"
   ]
  },
  {
   "cell_type": "code",
   "execution_count": 90,
   "id": "d5d161e9",
   "metadata": {},
   "outputs": [
    {
     "data": {
      "text/html": [
       "<div>\n",
       "<style scoped>\n",
       "    .dataframe tbody tr th:only-of-type {\n",
       "        vertical-align: middle;\n",
       "    }\n",
       "\n",
       "    .dataframe tbody tr th {\n",
       "        vertical-align: top;\n",
       "    }\n",
       "\n",
       "    .dataframe thead th {\n",
       "        text-align: right;\n",
       "    }\n",
       "</style>\n",
       "<table border=\"1\" class=\"dataframe\">\n",
       "  <thead>\n",
       "    <tr style=\"text-align: right;\">\n",
       "      <th></th>\n",
       "      <th>Unnamed: 0</th>\n",
       "      <th>reviews</th>\n",
       "      <th>rates</th>\n",
       "      <th>date</th>\n",
       "      <th>country</th>\n",
       "      <th>verified</th>\n",
       "      <th>comments</th>\n",
       "    </tr>\n",
       "  </thead>\n",
       "  <tbody>\n",
       "    <tr>\n",
       "      <th>0</th>\n",
       "      <td>0</td>\n",
       "      <td>✅ Trip Verified | Excellent service both on th...</td>\n",
       "      <td>\\n\\t\\t\\t\\t\\t\\t\\t\\t\\t\\t\\t\\t\\t5</td>\n",
       "      <td>24th January 2023</td>\n",
       "      <td>United Kingdom</td>\n",
       "      <td>True</td>\n",
       "      <td>excellent service ground board first class pro...</td>\n",
       "    </tr>\n",
       "    <tr>\n",
       "      <th>1</th>\n",
       "      <td>1</td>\n",
       "      <td>✅ Trip Verified |  Good lounge at Cape Town. O...</td>\n",
       "      <td>9</td>\n",
       "      <td>24th January 2023</td>\n",
       "      <td>United Kingdom</td>\n",
       "      <td>True</td>\n",
       "      <td>good lounge cape town time departure drink hig...</td>\n",
       "    </tr>\n",
       "    <tr>\n",
       "      <th>2</th>\n",
       "      <td>2</td>\n",
       "      <td>✅ Trip Verified |  A really excellent journey....</td>\n",
       "      <td>9</td>\n",
       "      <td>23rd January 2023</td>\n",
       "      <td>United Kingdom</td>\n",
       "      <td>True</td>\n",
       "      <td>really excellent journey lounge overcrowded la...</td>\n",
       "    </tr>\n",
       "    <tr>\n",
       "      <th>3</th>\n",
       "      <td>3</td>\n",
       "      <td>✅ Trip Verified |  This flight was one of the ...</td>\n",
       "      <td>9</td>\n",
       "      <td>21st January 2023</td>\n",
       "      <td>United Kingdom</td>\n",
       "      <td>True</td>\n",
       "      <td>flight one worst ever life wanted pamper bough...</td>\n",
       "    </tr>\n",
       "    <tr>\n",
       "      <th>4</th>\n",
       "      <td>4</td>\n",
       "      <td>Not Verified | It seems that there is a race t...</td>\n",
       "      <td>2</td>\n",
       "      <td>19th January 2023</td>\n",
       "      <td>United States</td>\n",
       "      <td>False</td>\n",
       "      <td>seems race bottom amongst airline cannot even ...</td>\n",
       "    </tr>\n",
       "    <tr>\n",
       "      <th>5</th>\n",
       "      <td>5</td>\n",
       "      <td>Not Verified |  As a Spanish born individual l...</td>\n",
       "      <td>3</td>\n",
       "      <td>19th January 2023</td>\n",
       "      <td>United Kingdom</td>\n",
       "      <td>False</td>\n",
       "      <td>spanish born individual living england using b...</td>\n",
       "    </tr>\n",
       "    <tr>\n",
       "      <th>6</th>\n",
       "      <td>6</td>\n",
       "      <td>✅ Trip Verified |  A rather empty and quiet fl...</td>\n",
       "      <td>2</td>\n",
       "      <td>18th January 2023</td>\n",
       "      <td>United Kingdom</td>\n",
       "      <td>True</td>\n",
       "      <td>rather empty quiet flight tel aviv friendly ca...</td>\n",
       "    </tr>\n",
       "    <tr>\n",
       "      <th>7</th>\n",
       "      <td>7</td>\n",
       "      <td>✅ Trip Verified |  Easy check in and staff mem...</td>\n",
       "      <td>9</td>\n",
       "      <td>17th January 2023</td>\n",
       "      <td>United Kingdom</td>\n",
       "      <td>True</td>\n",
       "      <td>easy check staff member polite helpful made sp...</td>\n",
       "    </tr>\n",
       "    <tr>\n",
       "      <th>8</th>\n",
       "      <td>8</td>\n",
       "      <td>✅ Trip Verified |  Being a silver flyer and bo...</td>\n",
       "      <td>9</td>\n",
       "      <td>17th January 2023</td>\n",
       "      <td>United Kingdom</td>\n",
       "      <td>True</td>\n",
       "      <td>silver flyer booking flight ba dublin would th...</td>\n",
       "    </tr>\n",
       "    <tr>\n",
       "      <th>9</th>\n",
       "      <td>9</td>\n",
       "      <td>Not Verified |  I find BA incredibly tacky and...</td>\n",
       "      <td>1</td>\n",
       "      <td>16th January 2023</td>\n",
       "      <td>United Kingdom</td>\n",
       "      <td>False</td>\n",
       "      <td>find ba incredibly tacky constantly looking wa...</td>\n",
       "    </tr>\n",
       "  </tbody>\n",
       "</table>\n",
       "</div>"
      ],
      "text/plain": [
       "   Unnamed: 0                                            reviews  \\\n",
       "0           0  ✅ Trip Verified | Excellent service both on th...   \n",
       "1           1  ✅ Trip Verified |  Good lounge at Cape Town. O...   \n",
       "2           2  ✅ Trip Verified |  A really excellent journey....   \n",
       "3           3  ✅ Trip Verified |  This flight was one of the ...   \n",
       "4           4  Not Verified | It seems that there is a race t...   \n",
       "5           5  Not Verified |  As a Spanish born individual l...   \n",
       "6           6  ✅ Trip Verified |  A rather empty and quiet fl...   \n",
       "7           7  ✅ Trip Verified |  Easy check in and staff mem...   \n",
       "8           8  ✅ Trip Verified |  Being a silver flyer and bo...   \n",
       "9           9  Not Verified |  I find BA incredibly tacky and...   \n",
       "\n",
       "                           rates               date         country  verified  \\\n",
       "0  \\n\\t\\t\\t\\t\\t\\t\\t\\t\\t\\t\\t\\t\\t5  24th January 2023  United Kingdom      True   \n",
       "1                              9  24th January 2023  United Kingdom      True   \n",
       "2                              9  23rd January 2023  United Kingdom      True   \n",
       "3                              9  21st January 2023  United Kingdom      True   \n",
       "4                              2  19th January 2023   United States     False   \n",
       "5                              3  19th January 2023  United Kingdom     False   \n",
       "6                              2  18th January 2023  United Kingdom      True   \n",
       "7                              9  17th January 2023  United Kingdom      True   \n",
       "8                              9  17th January 2023  United Kingdom      True   \n",
       "9                              1  16th January 2023  United Kingdom     False   \n",
       "\n",
       "                                            comments  \n",
       "0  excellent service ground board first class pro...  \n",
       "1  good lounge cape town time departure drink hig...  \n",
       "2  really excellent journey lounge overcrowded la...  \n",
       "3  flight one worst ever life wanted pamper bough...  \n",
       "4  seems race bottom amongst airline cannot even ...  \n",
       "5  spanish born individual living england using b...  \n",
       "6  rather empty quiet flight tel aviv friendly ca...  \n",
       "7  easy check staff member polite helpful made sp...  \n",
       "8  silver flyer booking flight ba dublin would th...  \n",
       "9  find ba incredibly tacky constantly looking wa...  "
      ]
     },
     "execution_count": 90,
     "metadata": {},
     "output_type": "execute_result"
    }
   ],
   "source": [
    "df.head(10)"
   ]
  },
  {
   "cell_type": "code",
   "execution_count": 91,
   "id": "9fa4a61c",
   "metadata": {},
   "outputs": [
    {
     "data": {
      "text/plain": [
       "Unnamed: 0     int64\n",
       "reviews       object\n",
       "rates         object\n",
       "date          object\n",
       "country       object\n",
       "verified        bool\n",
       "comments      object\n",
       "dtype: object"
      ]
     },
     "execution_count": 91,
     "metadata": {},
     "output_type": "execute_result"
    }
   ],
   "source": [
    "df.dtypes"
   ]
  },
  {
   "cell_type": "code",
   "execution_count": 92,
   "id": "771251c3",
   "metadata": {},
   "outputs": [],
   "source": [
    "# convert the date to datetime format\n",
    "\n",
    "df.date = pd.to_datetime(df.date)"
   ]
  },
  {
   "cell_type": "code",
   "execution_count": 93,
   "id": "fcd36332",
   "metadata": {},
   "outputs": [
    {
     "data": {
      "text/plain": [
       "0   2023-01-24\n",
       "1   2023-01-24\n",
       "2   2023-01-23\n",
       "3   2023-01-21\n",
       "4   2023-01-19\n",
       "Name: date, dtype: datetime64[ns]"
      ]
     },
     "execution_count": 93,
     "metadata": {},
     "output_type": "execute_result"
    }
   ],
   "source": [
    "df.date.head()"
   ]
  },
  {
   "cell_type": "code",
   "execution_count": 94,
   "id": "4e86b3c4",
   "metadata": {},
   "outputs": [
    {
     "data": {
      "text/plain": [
       "array(['\\n\\t\\t\\t\\t\\t\\t\\t\\t\\t\\t\\t\\t\\t5', '9', '2', '3', '1', '4', '5', '8',\n",
       "       '6', '7', '10', 'None'], dtype=object)"
      ]
     },
     "execution_count": 94,
     "metadata": {},
     "output_type": "execute_result"
    }
   ],
   "source": [
    "#check for unique values\n",
    "df.rates.unique()"
   ]
  },
  {
   "cell_type": "code",
   "execution_count": 95,
   "id": "1e4137b5",
   "metadata": {},
   "outputs": [],
   "source": [
    "# remove the \\t and \\n from the ratings\n",
    "df.rates = df.rates.str.strip(\"\\n\\t\\t\\t\\t\\t\\t\\t\\t\\t\\t\\t\\t\\t\")"
   ]
  },
  {
   "cell_type": "code",
   "execution_count": 96,
   "id": "5ccdc228",
   "metadata": {},
   "outputs": [
    {
     "data": {
      "text/plain": [
       "1       745\n",
       "2       385\n",
       "3       380\n",
       "8       344\n",
       "10      303\n",
       "7       297\n",
       "9       293\n",
       "5       255\n",
       "4       232\n",
       "6       179\n",
       "None      5\n",
       "Name: rates, dtype: int64"
      ]
     },
     "execution_count": 96,
     "metadata": {},
     "output_type": "execute_result"
    }
   ],
   "source": [
    "df.rates.value_counts()"
   ]
  },
  {
   "cell_type": "code",
   "execution_count": 97,
   "id": "80c0d03d",
   "metadata": {},
   "outputs": [],
   "source": [
    "# drop the rows where the value of ratings is None\n",
    "df.drop(df[df.rates == \"None\"].index, axis=0, inplace=True)"
   ]
  },
  {
   "cell_type": "code",
   "execution_count": 98,
   "id": "3d867418",
   "metadata": {},
   "outputs": [
    {
     "data": {
      "text/plain": [
       "array(['5', '9', '2', '3', '1', '4', '8', '6', '7', '10'], dtype=object)"
      ]
     },
     "execution_count": 98,
     "metadata": {},
     "output_type": "execute_result"
    }
   ],
   "source": [
    "#check the unique values again\n",
    "df.rates.unique()"
   ]
  },
  {
   "cell_type": "code",
   "execution_count": 99,
   "id": "1c7a1366",
   "metadata": {},
   "outputs": [
    {
     "data": {
      "text/plain": [
       "Unnamed: 0  reviews  rates  date   country  verified  comments\n",
       "False       False    False  False  False    False     False       3411\n",
       "                                   True     False     False          2\n",
       "dtype: int64"
      ]
     },
     "execution_count": 99,
     "metadata": {},
     "output_type": "execute_result"
    }
   ],
   "source": [
    "df.isnull().value_counts()"
   ]
  },
  {
   "cell_type": "code",
   "execution_count": 100,
   "id": "8d4c69c9",
   "metadata": {},
   "outputs": [],
   "source": [
    "#drop the rows using index where the country value is null\n",
    "df.drop(df[df.country.isnull() == True].index, axis=0, inplace=True)"
   ]
  },
  {
   "cell_type": "code",
   "execution_count": 101,
   "id": "814dc4a2",
   "metadata": {},
   "outputs": [
    {
     "data": {
      "text/plain": [
       "Unnamed: 0  reviews  rates  date   country  verified  comments\n",
       "False       False    False  False  False    False     False       3411\n",
       "dtype: int64"
      ]
     },
     "execution_count": 101,
     "metadata": {},
     "output_type": "execute_result"
    }
   ],
   "source": [
    "df.isnull().value_counts()"
   ]
  },
  {
   "cell_type": "code",
   "execution_count": 102,
   "id": "a8a9d416",
   "metadata": {
    "scrolled": false
   },
   "outputs": [
    {
     "data": {
      "text/html": [
       "<div>\n",
       "<style scoped>\n",
       "    .dataframe tbody tr th:only-of-type {\n",
       "        vertical-align: middle;\n",
       "    }\n",
       "\n",
       "    .dataframe tbody tr th {\n",
       "        vertical-align: top;\n",
       "    }\n",
       "\n",
       "    .dataframe thead th {\n",
       "        text-align: right;\n",
       "    }\n",
       "</style>\n",
       "<table border=\"1\" class=\"dataframe\">\n",
       "  <thead>\n",
       "    <tr style=\"text-align: right;\">\n",
       "      <th></th>\n",
       "      <th>Unnamed: 0</th>\n",
       "      <th>reviews</th>\n",
       "      <th>rates</th>\n",
       "      <th>date</th>\n",
       "      <th>country</th>\n",
       "      <th>verified</th>\n",
       "      <th>comments</th>\n",
       "    </tr>\n",
       "  </thead>\n",
       "  <tbody>\n",
       "    <tr>\n",
       "      <th>0</th>\n",
       "      <td>0</td>\n",
       "      <td>✅ Trip Verified | Excellent service both on th...</td>\n",
       "      <td>5</td>\n",
       "      <td>2023-01-24</td>\n",
       "      <td>United Kingdom</td>\n",
       "      <td>True</td>\n",
       "      <td>excellent service ground board first class pro...</td>\n",
       "    </tr>\n",
       "    <tr>\n",
       "      <th>1</th>\n",
       "      <td>1</td>\n",
       "      <td>✅ Trip Verified |  Good lounge at Cape Town. O...</td>\n",
       "      <td>9</td>\n",
       "      <td>2023-01-24</td>\n",
       "      <td>United Kingdom</td>\n",
       "      <td>True</td>\n",
       "      <td>good lounge cape town time departure drink hig...</td>\n",
       "    </tr>\n",
       "    <tr>\n",
       "      <th>2</th>\n",
       "      <td>2</td>\n",
       "      <td>✅ Trip Verified |  A really excellent journey....</td>\n",
       "      <td>9</td>\n",
       "      <td>2023-01-23</td>\n",
       "      <td>United Kingdom</td>\n",
       "      <td>True</td>\n",
       "      <td>really excellent journey lounge overcrowded la...</td>\n",
       "    </tr>\n",
       "    <tr>\n",
       "      <th>3</th>\n",
       "      <td>3</td>\n",
       "      <td>✅ Trip Verified |  This flight was one of the ...</td>\n",
       "      <td>9</td>\n",
       "      <td>2023-01-21</td>\n",
       "      <td>United Kingdom</td>\n",
       "      <td>True</td>\n",
       "      <td>flight one worst ever life wanted pamper bough...</td>\n",
       "    </tr>\n",
       "    <tr>\n",
       "      <th>4</th>\n",
       "      <td>4</td>\n",
       "      <td>Not Verified | It seems that there is a race t...</td>\n",
       "      <td>2</td>\n",
       "      <td>2023-01-19</td>\n",
       "      <td>United States</td>\n",
       "      <td>False</td>\n",
       "      <td>seems race bottom amongst airline cannot even ...</td>\n",
       "    </tr>\n",
       "    <tr>\n",
       "      <th>...</th>\n",
       "      <td>...</td>\n",
       "      <td>...</td>\n",
       "      <td>...</td>\n",
       "      <td>...</td>\n",
       "      <td>...</td>\n",
       "      <td>...</td>\n",
       "      <td>...</td>\n",
       "    </tr>\n",
       "    <tr>\n",
       "      <th>3406</th>\n",
       "      <td>3413</td>\n",
       "      <td>|Flew British Airways from Sydney to Venice on...</td>\n",
       "      <td>6</td>\n",
       "      <td>2014-05-20</td>\n",
       "      <td>Australia</td>\n",
       "      <td>False</td>\n",
       "      <td>flew british airway sydney venice nd april ret...</td>\n",
       "    </tr>\n",
       "    <tr>\n",
       "      <th>3407</th>\n",
       "      <td>3414</td>\n",
       "      <td>|Recently for our honeymoon we took advantage ...</td>\n",
       "      <td>10</td>\n",
       "      <td>2014-05-19</td>\n",
       "      <td>United Kingdom</td>\n",
       "      <td>False</td>\n",
       "      <td>recently honeymoon took advantage ba promo fly...</td>\n",
       "    </tr>\n",
       "    <tr>\n",
       "      <th>3408</th>\n",
       "      <td>3415</td>\n",
       "      <td>|LGW-Antigua on 29 April and Antigua-LGW on 13...</td>\n",
       "      <td>1</td>\n",
       "      <td>2014-05-18</td>\n",
       "      <td>United Kingdom</td>\n",
       "      <td>False</td>\n",
       "      <td>lgw antigua april antigua lgw may boeing start...</td>\n",
       "    </tr>\n",
       "    <tr>\n",
       "      <th>3409</th>\n",
       "      <td>3416</td>\n",
       "      <td>|LHR-JTR-LHR. A tale of opposites for BA's new...</td>\n",
       "      <td>4</td>\n",
       "      <td>2014-05-18</td>\n",
       "      <td>United Kingdom</td>\n",
       "      <td>False</td>\n",
       "      <td>lhr jtr lhr tale opposite ba new route santori...</td>\n",
       "    </tr>\n",
       "    <tr>\n",
       "      <th>3410</th>\n",
       "      <td>3417</td>\n",
       "      <td>|Gatwick-Venice return. Two contrasting experi...</td>\n",
       "      <td>2</td>\n",
       "      <td>2014-05-18</td>\n",
       "      <td>United Kingdom</td>\n",
       "      <td>False</td>\n",
       "      <td>gatwick venice return two contrasting experien...</td>\n",
       "    </tr>\n",
       "  </tbody>\n",
       "</table>\n",
       "<p>3411 rows × 7 columns</p>\n",
       "</div>"
      ],
      "text/plain": [
       "      Unnamed: 0                                            reviews rates  \\\n",
       "0              0  ✅ Trip Verified | Excellent service both on th...     5   \n",
       "1              1  ✅ Trip Verified |  Good lounge at Cape Town. O...     9   \n",
       "2              2  ✅ Trip Verified |  A really excellent journey....     9   \n",
       "3              3  ✅ Trip Verified |  This flight was one of the ...     9   \n",
       "4              4  Not Verified | It seems that there is a race t...     2   \n",
       "...          ...                                                ...   ...   \n",
       "3406        3413  |Flew British Airways from Sydney to Venice on...     6   \n",
       "3407        3414  |Recently for our honeymoon we took advantage ...    10   \n",
       "3408        3415  |LGW-Antigua on 29 April and Antigua-LGW on 13...     1   \n",
       "3409        3416  |LHR-JTR-LHR. A tale of opposites for BA's new...     4   \n",
       "3410        3417  |Gatwick-Venice return. Two contrasting experi...     2   \n",
       "\n",
       "           date         country  verified  \\\n",
       "0    2023-01-24  United Kingdom      True   \n",
       "1    2023-01-24  United Kingdom      True   \n",
       "2    2023-01-23  United Kingdom      True   \n",
       "3    2023-01-21  United Kingdom      True   \n",
       "4    2023-01-19   United States     False   \n",
       "...         ...             ...       ...   \n",
       "3406 2014-05-20       Australia     False   \n",
       "3407 2014-05-19  United Kingdom     False   \n",
       "3408 2014-05-18  United Kingdom     False   \n",
       "3409 2014-05-18  United Kingdom     False   \n",
       "3410 2014-05-18  United Kingdom     False   \n",
       "\n",
       "                                               comments  \n",
       "0     excellent service ground board first class pro...  \n",
       "1     good lounge cape town time departure drink hig...  \n",
       "2     really excellent journey lounge overcrowded la...  \n",
       "3     flight one worst ever life wanted pamper bough...  \n",
       "4     seems race bottom amongst airline cannot even ...  \n",
       "...                                                 ...  \n",
       "3406  flew british airway sydney venice nd april ret...  \n",
       "3407  recently honeymoon took advantage ba promo fly...  \n",
       "3408  lgw antigua april antigua lgw may boeing start...  \n",
       "3409  lhr jtr lhr tale opposite ba new route santori...  \n",
       "3410  gatwick venice return two contrasting experien...  \n",
       "\n",
       "[3411 rows x 7 columns]"
      ]
     },
     "execution_count": 102,
     "metadata": {},
     "output_type": "execute_result"
    }
   ],
   "source": [
    "#resetting the index\n",
    "df.reset_index(drop=True)"
   ]
  },
  {
   "cell_type": "markdown",
   "id": "5af6be25",
   "metadata": {},
   "source": [
    "### Removing irrelevant data from the dataset: \n",
    "Getting only verified comments"
   ]
  },
  {
   "cell_type": "code",
   "execution_count": 103,
   "id": "8cdd87f5",
   "metadata": {},
   "outputs": [],
   "source": [
    "review_df = df[['verified','comments']].copy()"
   ]
  },
  {
   "cell_type": "code",
   "execution_count": 104,
   "id": "441115f2",
   "metadata": {
    "scrolled": false
   },
   "outputs": [
    {
     "data": {
      "text/html": [
       "<div>\n",
       "<style scoped>\n",
       "    .dataframe tbody tr th:only-of-type {\n",
       "        vertical-align: middle;\n",
       "    }\n",
       "\n",
       "    .dataframe tbody tr th {\n",
       "        vertical-align: top;\n",
       "    }\n",
       "\n",
       "    .dataframe thead th {\n",
       "        text-align: right;\n",
       "    }\n",
       "</style>\n",
       "<table border=\"1\" class=\"dataframe\">\n",
       "  <thead>\n",
       "    <tr style=\"text-align: right;\">\n",
       "      <th></th>\n",
       "      <th>verified</th>\n",
       "      <th>comments</th>\n",
       "    </tr>\n",
       "  </thead>\n",
       "  <tbody>\n",
       "    <tr>\n",
       "      <th>0</th>\n",
       "      <td>True</td>\n",
       "      <td>excellent service ground board first class pro...</td>\n",
       "    </tr>\n",
       "    <tr>\n",
       "      <th>1</th>\n",
       "      <td>True</td>\n",
       "      <td>good lounge cape town time departure drink hig...</td>\n",
       "    </tr>\n",
       "    <tr>\n",
       "      <th>2</th>\n",
       "      <td>True</td>\n",
       "      <td>really excellent journey lounge overcrowded la...</td>\n",
       "    </tr>\n",
       "    <tr>\n",
       "      <th>3</th>\n",
       "      <td>True</td>\n",
       "      <td>flight one worst ever life wanted pamper bough...</td>\n",
       "    </tr>\n",
       "    <tr>\n",
       "      <th>4</th>\n",
       "      <td>False</td>\n",
       "      <td>seems race bottom amongst airline cannot even ...</td>\n",
       "    </tr>\n",
       "    <tr>\n",
       "      <th>5</th>\n",
       "      <td>False</td>\n",
       "      <td>spanish born individual living england using b...</td>\n",
       "    </tr>\n",
       "    <tr>\n",
       "      <th>6</th>\n",
       "      <td>True</td>\n",
       "      <td>rather empty quiet flight tel aviv friendly ca...</td>\n",
       "    </tr>\n",
       "    <tr>\n",
       "      <th>7</th>\n",
       "      <td>True</td>\n",
       "      <td>easy check staff member polite helpful made sp...</td>\n",
       "    </tr>\n",
       "    <tr>\n",
       "      <th>8</th>\n",
       "      <td>True</td>\n",
       "      <td>silver flyer booking flight ba dublin would th...</td>\n",
       "    </tr>\n",
       "    <tr>\n",
       "      <th>9</th>\n",
       "      <td>False</td>\n",
       "      <td>find ba incredibly tacky constantly looking wa...</td>\n",
       "    </tr>\n",
       "  </tbody>\n",
       "</table>\n",
       "</div>"
      ],
      "text/plain": [
       "   verified                                           comments\n",
       "0      True  excellent service ground board first class pro...\n",
       "1      True  good lounge cape town time departure drink hig...\n",
       "2      True  really excellent journey lounge overcrowded la...\n",
       "3      True  flight one worst ever life wanted pamper bough...\n",
       "4     False  seems race bottom amongst airline cannot even ...\n",
       "5     False  spanish born individual living england using b...\n",
       "6      True  rather empty quiet flight tel aviv friendly ca...\n",
       "7      True  easy check staff member polite helpful made sp...\n",
       "8      True  silver flyer booking flight ba dublin would th...\n",
       "9     False  find ba incredibly tacky constantly looking wa..."
      ]
     },
     "execution_count": 104,
     "metadata": {},
     "output_type": "execute_result"
    }
   ],
   "source": [
    "review_df.head(10)"
   ]
  },
  {
   "cell_type": "code",
   "execution_count": 105,
   "id": "d4f9b0ca",
   "metadata": {},
   "outputs": [],
   "source": [
    "review_df = review_df[review_df[\"verified\"] == True]"
   ]
  },
  {
   "cell_type": "code",
   "execution_count": 106,
   "id": "3786ed2f",
   "metadata": {},
   "outputs": [],
   "source": [
    "review_df = review_df.drop(\"verified\", axis = 1)"
   ]
  },
  {
   "cell_type": "code",
   "execution_count": 107,
   "id": "7db394d1",
   "metadata": {},
   "outputs": [
    {
     "data": {
      "text/html": [
       "<div>\n",
       "<style scoped>\n",
       "    .dataframe tbody tr th:only-of-type {\n",
       "        vertical-align: middle;\n",
       "    }\n",
       "\n",
       "    .dataframe tbody tr th {\n",
       "        vertical-align: top;\n",
       "    }\n",
       "\n",
       "    .dataframe thead th {\n",
       "        text-align: right;\n",
       "    }\n",
       "</style>\n",
       "<table border=\"1\" class=\"dataframe\">\n",
       "  <thead>\n",
       "    <tr style=\"text-align: right;\">\n",
       "      <th></th>\n",
       "      <th>comments</th>\n",
       "    </tr>\n",
       "  </thead>\n",
       "  <tbody>\n",
       "    <tr>\n",
       "      <th>0</th>\n",
       "      <td>excellent service ground board first class pro...</td>\n",
       "    </tr>\n",
       "    <tr>\n",
       "      <th>1</th>\n",
       "      <td>good lounge cape town time departure drink hig...</td>\n",
       "    </tr>\n",
       "    <tr>\n",
       "      <th>2</th>\n",
       "      <td>really excellent journey lounge overcrowded la...</td>\n",
       "    </tr>\n",
       "    <tr>\n",
       "      <th>3</th>\n",
       "      <td>flight one worst ever life wanted pamper bough...</td>\n",
       "    </tr>\n",
       "    <tr>\n",
       "      <th>6</th>\n",
       "      <td>rather empty quiet flight tel aviv friendly ca...</td>\n",
       "    </tr>\n",
       "  </tbody>\n",
       "</table>\n",
       "</div>"
      ],
      "text/plain": [
       "                                            comments\n",
       "0  excellent service ground board first class pro...\n",
       "1  good lounge cape town time departure drink hig...\n",
       "2  really excellent journey lounge overcrowded la...\n",
       "3  flight one worst ever life wanted pamper bough...\n",
       "6  rather empty quiet flight tel aviv friendly ca..."
      ]
     },
     "execution_count": 107,
     "metadata": {},
     "output_type": "execute_result"
    }
   ],
   "source": [
    "review_df.head()"
   ]
  },
  {
   "cell_type": "code",
   "execution_count": 108,
   "id": "eae5beef",
   "metadata": {
    "scrolled": true
   },
   "outputs": [
    {
     "data": {
      "text/html": [
       "<div>\n",
       "<style scoped>\n",
       "    .dataframe tbody tr th:only-of-type {\n",
       "        vertical-align: middle;\n",
       "    }\n",
       "\n",
       "    .dataframe tbody tr th {\n",
       "        vertical-align: top;\n",
       "    }\n",
       "\n",
       "    .dataframe thead th {\n",
       "        text-align: right;\n",
       "    }\n",
       "</style>\n",
       "<table border=\"1\" class=\"dataframe\">\n",
       "  <thead>\n",
       "    <tr style=\"text-align: right;\">\n",
       "      <th></th>\n",
       "      <th>comments</th>\n",
       "    </tr>\n",
       "  </thead>\n",
       "  <tbody>\n",
       "    <tr>\n",
       "      <th>0</th>\n",
       "      <td>excellent service ground board first class pro...</td>\n",
       "    </tr>\n",
       "    <tr>\n",
       "      <th>1</th>\n",
       "      <td>good lounge cape town time departure drink hig...</td>\n",
       "    </tr>\n",
       "    <tr>\n",
       "      <th>2</th>\n",
       "      <td>really excellent journey lounge overcrowded la...</td>\n",
       "    </tr>\n",
       "    <tr>\n",
       "      <th>3</th>\n",
       "      <td>flight one worst ever life wanted pamper bough...</td>\n",
       "    </tr>\n",
       "    <tr>\n",
       "      <th>4</th>\n",
       "      <td>rather empty quiet flight tel aviv friendly ca...</td>\n",
       "    </tr>\n",
       "    <tr>\n",
       "      <th>...</th>\n",
       "      <td>...</td>\n",
       "    </tr>\n",
       "    <tr>\n",
       "      <th>971</th>\n",
       "      <td>hour delay airport flight destined verona arri...</td>\n",
       "    </tr>\n",
       "    <tr>\n",
       "      <th>972</th>\n",
       "      <td>flew british airway madrid london heathrow air...</td>\n",
       "    </tr>\n",
       "    <tr>\n",
       "      <th>973</th>\n",
       "      <td>tel aviv london arrived airport lot time due s...</td>\n",
       "    </tr>\n",
       "    <tr>\n",
       "      <th>974</th>\n",
       "      <td>london tel aviv arrived heathrow pm expecting ...</td>\n",
       "    </tr>\n",
       "    <tr>\n",
       "      <th>975</th>\n",
       "      <td>kuala lumpur madrid via london first time flyi...</td>\n",
       "    </tr>\n",
       "  </tbody>\n",
       "</table>\n",
       "<p>976 rows × 1 columns</p>\n",
       "</div>"
      ],
      "text/plain": [
       "                                              comments\n",
       "0    excellent service ground board first class pro...\n",
       "1    good lounge cape town time departure drink hig...\n",
       "2    really excellent journey lounge overcrowded la...\n",
       "3    flight one worst ever life wanted pamper bough...\n",
       "4    rather empty quiet flight tel aviv friendly ca...\n",
       "..                                                 ...\n",
       "971  hour delay airport flight destined verona arri...\n",
       "972  flew british airway madrid london heathrow air...\n",
       "973  tel aviv london arrived airport lot time due s...\n",
       "974  london tel aviv arrived heathrow pm expecting ...\n",
       "975  kuala lumpur madrid via london first time flyi...\n",
       "\n",
       "[976 rows x 1 columns]"
      ]
     },
     "execution_count": 108,
     "metadata": {},
     "output_type": "execute_result"
    }
   ],
   "source": [
    "#resetting the index\n",
    "review_df.reset_index(drop=True)"
   ]
  },
  {
   "cell_type": "markdown",
   "id": "636c607f",
   "metadata": {},
   "source": [
    "## Feature Extraction"
   ]
  },
  {
   "cell_type": "code",
   "execution_count": 109,
   "id": "3e1f5cb7",
   "metadata": {},
   "outputs": [],
   "source": [
    "# create a copy of the dataset\n",
    "review_data = review_df.copy()"
   ]
  },
  {
   "cell_type": "code",
   "execution_count": 110,
   "id": "998c31ff",
   "metadata": {},
   "outputs": [],
   "source": [
    "# count characters\n",
    "def char_count(text):\n",
    "    charC=0\n",
    "    for char in text.split():\n",
    "        charC +=len(char)\n",
    "    return charC"
   ]
  },
  {
   "cell_type": "code",
   "execution_count": 111,
   "id": "95964aa8",
   "metadata": {},
   "outputs": [],
   "source": [
    "stop_words = stopwords.words('english')\n",
    "\n",
    "def feature_extract(review_data):\n",
    "    # number of words\n",
    "    review_data['word_count'] = review_data['comments'].apply(lambda x : len(str(x).split(\" \")))\n",
    "    # save character count as new column\n",
    "    review_data['char_count']=review_data['comments'].apply(char_count)\n",
    "    # number of stopwords\n",
    "    review_data['stopwords_count'] = review_data['comments'].apply(lambda x: len([x for x in x.split() if x in stop_words]))"
   ]
  },
  {
   "cell_type": "code",
   "execution_count": 112,
   "id": "4fe00827",
   "metadata": {},
   "outputs": [],
   "source": [
    "feature_extract(review_data)"
   ]
  },
  {
   "cell_type": "markdown",
   "id": "511ec37b",
   "metadata": {},
   "source": [
    "### Sentiment Analysis"
   ]
  },
  {
   "cell_type": "markdown",
   "id": "8fa64fab",
   "metadata": {},
   "source": [
    "We will now perform sentiment analysis to get a more accurate assessment of the comments given in the reviews."
   ]
  },
  {
   "cell_type": "code",
   "execution_count": 113,
   "id": "bdd4536e",
   "metadata": {},
   "outputs": [],
   "source": [
    "sentiment_analyser = SentimentIntensityAnalyzer()"
   ]
  },
  {
   "cell_type": "code",
   "execution_count": 114,
   "id": "2827168b",
   "metadata": {},
   "outputs": [],
   "source": [
    "#Subjectivity of the processed data\n",
    "#Create a function to get the subjectivity\n",
    "def getSubjectivity(text):\n",
    "    return TextBlob(text).sentiment.subjectivity"
   ]
  },
  {
   "cell_type": "code",
   "execution_count": 115,
   "id": "b9b1970d",
   "metadata": {},
   "outputs": [],
   "source": [
    "#Polarity of the processed data\n",
    "#Create a function to get the polarity\n",
    "def getPolarity(text):\n",
    "    return TextBlob(text).sentiment.polarity"
   ]
  },
  {
   "cell_type": "code",
   "execution_count": 116,
   "id": "a85cc254",
   "metadata": {
    "scrolled": true
   },
   "outputs": [
    {
     "data": {
      "text/plain": [
       "0       excellent service ground board first class pro...\n",
       "1       good lounge cape town time departure drink hig...\n",
       "2       really excellent journey lounge overcrowded la...\n",
       "3       flight one worst ever life wanted pamper bough...\n",
       "6       rather empty quiet flight tel aviv friendly ca...\n",
       "                              ...                        \n",
       "1143    hour delay airport flight destined verona arri...\n",
       "1144    flew british airway madrid london heathrow air...\n",
       "1145    tel aviv london arrived airport lot time due s...\n",
       "1146    london tel aviv arrived heathrow pm expecting ...\n",
       "1147    kuala lumpur madrid via london first time flyi...\n",
       "Name: comments, Length: 976, dtype: object"
      ]
     },
     "execution_count": 116,
     "metadata": {},
     "output_type": "execute_result"
    }
   ],
   "source": [
    "review_data['comments']"
   ]
  },
  {
   "cell_type": "code",
   "execution_count": 117,
   "id": "b6768761",
   "metadata": {},
   "outputs": [],
   "source": [
    "#Creating columns to display subjectivity and polarity\n",
    "review_data['Subjectivity'] = review_data['comments'].apply(getSubjectivity)\n",
    "review_data['Polarity'] = review_data['comments'].apply(getPolarity)"
   ]
  },
  {
   "cell_type": "code",
   "execution_count": 118,
   "id": "d72c2b5c",
   "metadata": {},
   "outputs": [],
   "source": [
    "def getSentiments(score):\n",
    "    if score < 0:\n",
    "        return 'Negative'\n",
    "    elif score == 0 or score > 0:\n",
    "        return 'Positive'\n",
    "review_data['sentiments'] = review_data['Polarity'].apply(getSentiments)"
   ]
  },
  {
   "cell_type": "code",
   "execution_count": 119,
   "id": "4f7bc626",
   "metadata": {
    "scrolled": true
   },
   "outputs": [
    {
     "name": "stdout",
     "output_type": "stream",
     "text": [
      "<class 'pandas.core.frame.DataFrame'>\n",
      "Int64Index: 976 entries, 0 to 1147\n",
      "Data columns (total 7 columns):\n",
      " #   Column           Non-Null Count  Dtype  \n",
      "---  ------           --------------  -----  \n",
      " 0   comments         976 non-null    object \n",
      " 1   word_count       976 non-null    int64  \n",
      " 2   char_count       976 non-null    int64  \n",
      " 3   stopwords_count  976 non-null    int64  \n",
      " 4   Subjectivity     976 non-null    float64\n",
      " 5   Polarity         976 non-null    float64\n",
      " 6   sentiments       976 non-null    object \n",
      "dtypes: float64(2), int64(3), object(2)\n",
      "memory usage: 61.0+ KB\n"
     ]
    }
   ],
   "source": [
    "review_data.info()"
   ]
  },
  {
   "cell_type": "markdown",
   "id": "f7a2c0c9",
   "metadata": {},
   "source": [
    "### Data Visualisation for sentiment analysis"
   ]
  },
  {
   "cell_type": "markdown",
   "id": "f388aa29",
   "metadata": {},
   "source": [
    "#### Scatterplot to visualize sentiments against subjectivity"
   ]
  },
  {
   "cell_type": "code",
   "execution_count": 120,
   "id": "9aeceab6",
   "metadata": {},
   "outputs": [],
   "source": [
    "#Creating a new dataframe sort_data to sort te polarity amd computation analysis\n",
    "sorted_reviews = review_data.sort_values(by=['Polarity'])"
   ]
  },
  {
   "cell_type": "code",
   "execution_count": 121,
   "id": "c3d03e6c",
   "metadata": {},
   "outputs": [],
   "source": [
    "sorted_reviews['sentiments'] = sorted_reviews[['sentiments']]"
   ]
  },
  {
   "cell_type": "code",
   "execution_count": 122,
   "id": "8aceb632",
   "metadata": {
    "scrolled": true
   },
   "outputs": [
    {
     "data": {
      "image/png": "[encoded data removed]",
      "text/plain": [
       "<Figure size 600x400 with 1 Axes>"
      ]
     },
     "metadata": {},
     "output_type": "display_data"
    }
   ],
   "source": [
    "fig, ax = plt.subplots(figsize=(6,4))\n",
    "sns.scatterplot(x='Polarity', y='Subjectivity', hue='sentiments', data = sorted_reviews) \n",
    "plt.show()"
   ]
  },
  {
   "cell_type": "code",
   "execution_count": 123,
   "id": "61031550",
   "metadata": {},
   "outputs": [
    {
     "data": {
      "text/plain": [
       "68.65"
      ]
     },
     "execution_count": 123,
     "metadata": {},
     "output_type": "execute_result"
    }
   ],
   "source": [
    "#Percentage of positive comments\n",
    "posComments = sorted_reviews[sorted_reviews.sentiments=='Positive']\n",
    "posComments = posComments['comments']\n",
    "round((posComments.shape[0]/sorted_reviews.shape[0] * 100), 2)"
   ]
  },
  {
   "cell_type": "code",
   "execution_count": 124,
   "id": "758a4a60",
   "metadata": {
    "scrolled": true
   },
   "outputs": [
    {
     "data": {
      "text/plain": [
       "31.35"
      ]
     },
     "execution_count": 124,
     "metadata": {},
     "output_type": "execute_result"
    }
   ],
   "source": [
    "#Percentage of negative comments\n",
    "negComments = sorted_reviews[sorted_reviews.sentiments=='Negative']\n",
    "negComments = negComments['comments']\n",
    "round((negComments.shape[0]/sorted_reviews.shape[0] * 100), 2)"
   ]
  },
  {
   "cell_type": "markdown",
   "id": "502bd499",
   "metadata": {},
   "source": [
    "#### Bar chart to observe dataset's balance"
   ]
  },
  {
   "cell_type": "code",
   "execution_count": 125,
   "id": "638cb731",
   "metadata": {
    "scrolled": true
   },
   "outputs": [
    {
     "data": {
      "text/plain": [
       "<Axes: title={'center': 'Airline Review Analysis'}, xlabel='sentiments', ylabel='count'>"
      ]
     },
     "execution_count": 125,
     "metadata": {},
     "output_type": "execute_result"
    },
    {
     "data": {
      "image/png": "[encoded data removed]",
      "text/plain": [
       "<Figure size 640x480 with 1 Axes>"
      ]
     },
     "metadata": {},
     "output_type": "display_data"
    }
   ],
   "source": [
    "sorted_reviews['sentiments'].value_counts()\n",
    "plt.title('Airline Review Analysis')\n",
    "plt.xlabel('General Sentiment Type')\n",
    "plt.ylabel('Count')\n",
    "sns.countplot(x='sentiments', data = sorted_reviews)"
   ]
  },
  {
   "cell_type": "markdown",
   "id": "79d2c607",
   "metadata": {},
   "source": [
    "### Feature Engineering"
   ]
  },
  {
   "cell_type": "markdown",
   "id": "03724644",
   "metadata": {},
   "source": [
    "We now need to select the feature columns and transform them into features that can be used to train the model.\n",
    "In this model, the columns would be the \"comments\" and \"sentiments\".\n",
    "The dataset will be split into a : ratio for the training and testing data. Features will be taken from the new dataframe, text_data.\n",
    "I have limited the number of features to 5000, due to the smaller dataset I am using."
   ]
  },
  {
   "cell_type": "code",
   "execution_count": 126,
   "id": "fd79d9a0",
   "metadata": {},
   "outputs": [],
   "source": [
    "text_data = pd.DataFrame().assign(text=sorted_reviews['comments'], sentiments=sorted_reviews['sentiments'])"
   ]
  },
  {
   "cell_type": "code",
   "execution_count": 127,
   "id": "f8fedc12",
   "metadata": {},
   "outputs": [],
   "source": [
    "TEST_SIZE = 0.3\n",
    "\n",
    "(text_train, text_test, \n",
    " sentiment_train, sentiment_test) = train_test_split(text_data['text'], text_data['sentiments'], \n",
    "                                         test_size=TEST_SIZE, stratify=text_data['sentiments'],\n",
    "                                                     shuffle=True, random_state=SEED)"
   ]
  },
  {
   "cell_type": "code",
   "execution_count": 128,
   "id": "b6b4b2ee",
   "metadata": {},
   "outputs": [],
   "source": [
    "MAX_FEATURES = 5000\n",
    "NGRAMS = 2\n",
    "\n",
    "tfidf = TfidfVectorizer(ngram_range=(1, NGRAMS), max_features=MAX_FEATURES)\n",
    "tfidf.fit(text_train)\n",
    "\n",
    "X_train, X_test = tfidf.transform(text_train).toarray(), tfidf.transform(text_test).toarray()"
   ]
  },
  {
   "cell_type": "code",
   "execution_count": 129,
   "id": "2a2dd22f",
   "metadata": {},
   "outputs": [],
   "source": [
    "label_encoder = LabelEncoder()\n",
    "label_encoder.fit(text_data['sentiments'])\n",
    "\n",
    "y_train = label_encoder.transform(sentiment_train)\n",
    "y_test = label_encoder.transform(sentiment_test)"
   ]
  },
  {
   "cell_type": "code",
   "execution_count": 130,
   "id": "3c03dbda",
   "metadata": {},
   "outputs": [],
   "source": [
    "oversampling = SMOTE()\n",
    "X_train, y_train = oversampling.fit_resample(X_train, y_train)"
   ]
  },
  {
   "cell_type": "code",
   "execution_count": 131,
   "id": "472f01da",
   "metadata": {},
   "outputs": [],
   "source": [
    "VALIDATION_SIZE = X_test.shape[0]\n",
    "\n",
    "X_train, X_val, y_train, y_val = train_test_split(X_train, y_train, \n",
    "                                                 test_size=VALIDATION_SIZE, stratify=y_train,\n",
    "                                                 shuffle=True, random_state=SEED)"
   ]
  },
  {
   "cell_type": "markdown",
   "id": "be1425b8",
   "metadata": {},
   "source": [
    "### Baseline"
   ]
  },
  {
   "cell_type": "markdown",
   "id": "45b239ce",
   "metadata": {},
   "source": [
    "Given that the classes are originally imbalanced, with positive comments taking about the largest proportion, 69% of the dataset, the original baseline should be 0.69. However, we have used oversampling to balance the classes, therefore, the naive baseline of a binary classifier with balanced classes is 0.5."
   ]
  },
  {
   "cell_type": "markdown",
   "id": "4c41c291",
   "metadata": {},
   "source": [
    "## Developing a model that does better than a baseline "
   ]
  },
  {
   "cell_type": "code",
   "execution_count": 132,
   "id": "7a7638f0",
   "metadata": {},
   "outputs": [],
   "source": [
    "# MLP Model Instatiation\n",
    "def deep_neural_network(hidden_layers=0, hidden_neurons=np.nan, activation=None,\n",
    "                        dropout=np.nan, input_dimension=2, output_dimension=1,\n",
    "                        optimizer='rmsprop', loss='binary_crossentropy', metrics=['accuracy'],\n",
    "                        name=None):\n",
    "    \n",
    "    model = Sequential()\n",
    "    for layer in range(hidden_layers) :\n",
    "        model.add(Dense(hidden_neurons, \n",
    "                  activation=activation, \n",
    "                  input_shape='default' if layer>1 else (input_dimension,)))\n",
    "        if ~np.isnan(dropout) :\n",
    "            model.add(Dropout(dropout))\n",
    "        \n",
    "    model.add(Dense(output_dimension, \n",
    "                    activation='sigmoid' if output_dimension==1 else 'softmax',\n",
    "                    input_shape='default' if hidden_layers>0 else (input_dimension,)))\n",
    "  \n",
    "    if name is not None :\n",
    "        model._name = name\n",
    "        \n",
    "    model.compile(optimizer=optimizer, loss=loss, metrics=metrics)\n",
    "    \n",
    "    return model"
   ]
  },
  {
   "cell_type": "code",
   "execution_count": 133,
   "id": "acb7b23e",
   "metadata": {},
   "outputs": [],
   "source": [
    "# Fitting MLP Classification Model\n",
    "def train_deep_neural_network(model, X, y, \n",
    "                              batch_size=32, epochs=100, \n",
    "                              val_data=None, callbacks=[], seed=0):\n",
    "    \n",
    "    if val_data is None :\n",
    "        X_train, X_val, y_train, y_val = train_test_split(X, y, test_size=0.2, \n",
    "                                                          random_state=seed, shuffle=True, \n",
    "                                                          stratify=y)\n",
    "        \n",
    "    else :\n",
    "        X_train, y_train, X_val, y_val = X, y, val_data[0], val_data[1]\n",
    "  \n",
    "\n",
    "    history = model.fit(X_train, y_train,\n",
    "                        batch_size=batch_size, epochs=epochs, \n",
    "                        validation_data=(X_val, y_val),\n",
    "                        callbacks=callbacks,\n",
    "                        verbose=0)\n",
    "\n",
    "    return {'model': model, \n",
    "            'val_score': model.evaluate(X_val, y_val, verbose=0)[1:], \n",
    "            'history': history }"
   ]
  },
  {
   "cell_type": "code",
   "execution_count": 134,
   "id": "c9de44bb",
   "metadata": {},
   "outputs": [],
   "source": [
    "INPUT_DIMENSION = X_train.shape[1]\n",
    "OUTPUT_DIMENSION = 1\n",
    "\n",
    "OPTIMIZER = 'rmsprop'\n",
    "LOSS_FUNC = 'binary_crossentropy'\n",
    "METRICS = ['accuracy', \n",
    "           tf.keras.metrics.Precision(name='precision'), \n",
    "           tf.keras.metrics.Recall(name='recall'),\n",
    "           tf.keras.metrics.AUC(name='AUC')\n",
    "           ]"
   ]
  },
  {
   "cell_type": "code",
   "execution_count": 135,
   "id": "a0b29f9b",
   "metadata": {},
   "outputs": [],
   "source": [
    "slp_model = deep_neural_network(hidden_layers=0, \n",
    "                                input_dimension=INPUT_DIMENSION, output_dimension=OUTPUT_DIMENSION,\n",
    "                                optimizer=OPTIMIZER, \n",
    "                                loss=LOSS_FUNC, metrics=METRICS,\n",
    "                                name='Single_Layer_Perceptron')"
   ]
  },
  {
   "cell_type": "code",
   "execution_count": 136,
   "id": "55987913",
   "metadata": {},
   "outputs": [
    {
     "name": "stdout",
     "output_type": "stream",
     "text": [
      "Model: \"Single_Layer_Perceptron\"\n",
      "_________________________________________________________________\n",
      " Layer (type)                Output Shape              Param #   \n",
      "=================================================================\n",
      " dense_187 (Dense)           (None, 1)                 5001      \n",
      "                                                                 \n",
      "=================================================================\n",
      "Total params: 5,001\n",
      "Trainable params: 5,001\n",
      "Non-trainable params: 0\n",
      "_________________________________________________________________\n"
     ]
    }
   ],
   "source": [
    "slp_model.summary()"
   ]
  },
  {
   "cell_type": "code",
   "execution_count": 137,
   "id": "a5315c82",
   "metadata": {},
   "outputs": [],
   "source": [
    "batch_size = 512\n",
    "EPOCHS = 100\n",
    "\n",
    "MONITOR = 'val_loss'\n",
    "PATIENCE = 5\n",
    "\n",
    "EARLY_STOP = EarlyStopping(monitor=MONITOR, restore_best_weights=True, patience=PATIENCE, verbose=0)"
   ]
  },
  {
   "cell_type": "code",
   "execution_count": 138,
   "id": "e1b8fc61",
   "metadata": {},
   "outputs": [],
   "source": [
    "trained_slp_model = train_deep_neural_network(slp_model, X_train, y_train,\n",
    "                                              batch_size=batch_size, epochs=500, \n",
    "                                              val_data=(X_val, y_val), \n",
    "                                              callbacks=[EARLY_STOP], seed=SEED)"
   ]
  },
  {
   "cell_type": "code",
   "execution_count": 139,
   "id": "6d32be5f",
   "metadata": {},
   "outputs": [
    {
     "name": "stdout",
     "output_type": "stream",
     "text": [
      "Accuracy (Validation): 0.86\n",
      "AUC (Validation): 0.85\n",
      "Precision (Validation): 0.88\n",
      "Recall (Validation): 0.96\n"
     ]
    }
   ],
   "source": [
    "print('Accuracy (Validation): {:.2f}'.format(trained_slp_model['val_score'][0]))\n",
    "print('AUC (Validation): {:.2f}'.format(trained_slp_model['val_score'][1]))\n",
    "print('Precision (Validation): {:.2f}'.format(trained_slp_model['val_score'][2]))\n",
    "print('Recall (Validation): {:.2f}'.format(trained_slp_model['val_score'][3]))"
   ]
  },
  {
   "cell_type": "code",
   "execution_count": 140,
   "id": "14bef389",
   "metadata": {},
   "outputs": [],
   "source": [
    "preds = trained_slp_model['model'].predict(X_val, verbose=0)"
   ]
  },
  {
   "cell_type": "code",
   "execution_count": 141,
   "id": "7aff9c65",
   "metadata": {},
   "outputs": [],
   "source": [
    "def plot_training_history(history, monitors=['loss', 'AUC']) :\n",
    "\n",
    "  # using the variable axs for multiple Axes\n",
    "  fig, axs = plt.subplots(1, 2, sharex='all', figsize=(15,5))\n",
    " \n",
    "  for ax, monitor in zip(axs.flat, monitors) :\n",
    "    loss, val_loss = history.history[monitor], history.history['val_' + monitor]\n",
    "\n",
    "    if monitor == 'loss' :\n",
    "      monitor = monitor.capitalize()\n",
    "\n",
    "    epochs = range(1, len(loss)+1)\n",
    "\n",
    "    ax.plot(epochs, loss, 'b.', label=monitor)\n",
    "    ax.plot(epochs, val_loss, 'r.', label='Validation ' + monitor)\n",
    "    ax.set_xlim([0, len(loss)])\n",
    "    ax.title.set_text('Training and Validation ' + monitor + 's')\n",
    "    ax.set_xlabel('Epochs')\n",
    "    ax.set_ylabel(monitor)\n",
    "    ax.legend()\n",
    "    ax.grid()\n",
    "\n",
    "  _ = plt.show()"
   ]
  },
  {
   "cell_type": "code",
   "execution_count": 142,
   "id": "3302e0cc",
   "metadata": {},
   "outputs": [
    {
     "data": {
      "image/png": "[encoded data removed]",
      "text/plain": [
       "<Figure size 1500x500 with 2 Axes>"
      ]
     },
     "metadata": {},
     "output_type": "display_data"
    }
   ],
   "source": [
    "plot_training_history(trained_slp_model['history'], monitors=['loss', 'AUC'])"
   ]
  },
  {
   "cell_type": "markdown",
   "id": "2be0cebb",
   "metadata": {},
   "source": [
    "## Scaling up: developing a model that overfits"
   ]
  },
  {
   "cell_type": "code",
   "execution_count": 143,
   "id": "2e411ea2",
   "metadata": {},
   "outputs": [
    {
     "name": "stdout",
     "output_type": "stream",
     "text": [
      "Model: \"Multi_Layer_Perceptron\"\n",
      "_________________________________________________________________\n",
      " Layer (type)                Output Shape              Param #   \n",
      "=================================================================\n",
      " dense_188 (Dense)           (None, 64)                320064    \n",
      "                                                                 \n",
      " dense_189 (Dense)           (None, 64)                4160      \n",
      "                                                                 \n",
      " dense_190 (Dense)           (None, 64)                4160      \n",
      "                                                                 \n",
      " dense_191 (Dense)           (None, 1)                 65        \n",
      "                                                                 \n",
      "=================================================================\n",
      "Total params: 328,449\n",
      "Trainable params: 328,449\n",
      "Non-trainable params: 0\n",
      "_________________________________________________________________\n"
     ]
    }
   ],
   "source": [
    "mlp_model = deep_neural_network(hidden_layers=3, hidden_neurons=64,\n",
    "                                activation='relu',\n",
    "                                input_dimension=INPUT_DIMENSION, output_dimension=OUTPUT_DIMENSION,\n",
    "                                optimizer=OPTIMIZER, \n",
    "                                loss=LOSS_FUNC, metrics=METRICS,\n",
    "                                name='Multi_Layer_Perceptron')\n",
    "\n",
    "mlp_model.summary()"
   ]
  },
  {
   "cell_type": "code",
   "execution_count": 144,
   "id": "2ecb3c22",
   "metadata": {},
   "outputs": [],
   "source": [
    "trained_mlp_model = train_deep_neural_network(mlp_model, X_train, y_train,\n",
    "                                              batch_size=batch_size, epochs=EPOCHS, \n",
    "                                              val_data=(X_val, y_val), \n",
    "                                              callbacks=[], seed=SEED)"
   ]
  },
  {
   "cell_type": "code",
   "execution_count": 145,
   "id": "e88c539b",
   "metadata": {
    "scrolled": true
   },
   "outputs": [
    {
     "data": {
      "image/png": "[encoded data removed]",
      "text/plain": [
       "<Figure size 1500x500 with 2 Axes>"
      ]
     },
     "metadata": {},
     "output_type": "display_data"
    }
   ],
   "source": [
    "plot_training_history(trained_mlp_model['history'], monitors=['loss', 'AUC'])"
   ]
  },
  {
   "cell_type": "code",
   "execution_count": 146,
   "id": "3602c260",
   "metadata": {},
   "outputs": [
    {
     "name": "stdout",
     "output_type": "stream",
     "text": [
      "Accuracy (Validation): 0.89\n",
      "Precision (Validation): 0.89\n",
      "Recall (Validation): 0.90\n",
      "AUC (Validation): 0.97\n"
     ]
    }
   ],
   "source": [
    "print('Accuracy (Validation): {:.2f}'.format(trained_mlp_model['val_score'][0]))\n",
    "print('Precision (Validation): {:.2f}'.format(trained_mlp_model['val_score'][1]))\n",
    "print('Recall (Validation): {:.2f}'.format(trained_mlp_model['val_score'][2]))\n",
    "print('AUC (Validation): {:.2f}'.format(trained_mlp_model['val_score'][3]))"
   ]
  },
  {
   "cell_type": "code",
   "execution_count": 147,
   "id": "b1c648dd",
   "metadata": {},
   "outputs": [],
   "source": [
    "preds = trained_mlp_model['model'].predict(X_val, verbose=0)"
   ]
  },
  {
   "cell_type": "markdown",
   "id": "f4042774",
   "metadata": {},
   "source": [
    "## Regularizing your model and tuning your hyperparameters: \n",
    "Using GridSearchCV and K fold cross-validation"
   ]
  },
  {
   "cell_type": "code",
   "execution_count": 148,
   "id": "7c4d3442",
   "metadata": {},
   "outputs": [],
   "source": [
    "# Reformat Grid CV Stats to Dataframe\n",
    "def to_dataframe(stats, mapping) :\n",
    "    entries = []\n",
    "    for param, metrics in stats.items() :\n",
    "        entry = eval(param)\n",
    "        for key, value in metrics.items() :\n",
    "            entry[key] = value\n",
    "        \n",
    "        for key, value in mapping.items() :\n",
    "            entry[value] = entry['scores'][key]\n",
    "            \n",
    "        entry.pop('scores') \n",
    "        \n",
    "        entries.append( entry )\n",
    "\n",
    "    return pd.DataFrame(data=entries)"
   ]
  },
  {
   "cell_type": "code",
   "execution_count": 149,
   "id": "9b8278df",
   "metadata": {},
   "outputs": [],
   "source": [
    "# Grid Search CV\n",
    "def grid_search_cv(X, y,\n",
    "                   space, cv, \n",
    "                   optimizer, loss, metrics, \n",
    "                   epochs, callbacks=[], seed=0, order={}) :\n",
    "    \n",
    "    keys, values = zip(*space.items())\n",
    "    \n",
    "    stats = {}\n",
    "    for params in [dict(zip(keys, v)) for v in itertools.product(*values)] :\n",
    "        kfold = StratifiedKFold(n_splits=cv, shuffle=True, random_state=seed)\n",
    "        \n",
    "        scores, stopped, losses = [], [], []\n",
    "        for train, validate in kfold.split(X, y) :\n",
    "            model = deep_neural_network(hidden_layers=params['hidden_layers'], \n",
    "                                        hidden_neurons=params['neurons'], \n",
    "                                        activation=params['activation'], \n",
    "                                        dropout=params['dropout'], \n",
    "                                        input_dimension=X.shape[1], \n",
    "                                        output_dimension=1 if len(y.shape)<2 else y.shape[1],\n",
    "                                        optimizer=optimizer, \n",
    "                                        loss=loss, metrics=metrics)\n",
    "      \n",
    "            trained = train_deep_neural_network(model, \n",
    "                                                X[train,:], y[train], \n",
    "                                                \n",
    "                                                batch_size=params['batch_size'], epochs=epochs, \n",
    "                                                val_data=(X[validate,:], y[validate]), \n",
    "                                                callbacks=callbacks, seed=seed) \n",
    "            \n",
    "            evaluations = trained['model'].evaluate(X[validate,:], y[validate], verbose=0)[1:]\n",
    "            scores.append( evaluations )\n",
    "            stopped.append( len(trained['history'].history['val_loss']) )\n",
    "            losses.append( np.min(trained['history'].history['val_loss']) )\n",
    "        \n",
    "        stats[str(params)] = { 'scores': np.mean(scores, axis=0), \n",
    "                               'epochs': np.mean(stopped), \n",
    "                               'val_loss': np.mean(losses) }\n",
    "    \n",
    "    return to_dataframe(stats, order)"
   ]
  },
  {
   "cell_type": "code",
   "execution_count": 150,
   "id": "3c95db4d",
   "metadata": {},
   "outputs": [],
   "source": [
    "orders = {\n",
    "    0: 'categorical_accuracy',              \n",
    "    1: 'precision',\n",
    "    2: 'recall',\n",
    "    3: 'auc',\n",
    "}"
   ]
  },
  {
   "cell_type": "code",
   "execution_count": 151,
   "id": "17b0b0a1",
   "metadata": {},
   "outputs": [],
   "source": [
    "KFOLDS = 5"
   ]
  },
  {
   "cell_type": "code",
   "execution_count": 152,
   "id": "df013a9a",
   "metadata": {
    "scrolled": true
   },
   "outputs": [],
   "source": [
    "params = {\n",
    "    'hidden_layers': [1, 2, 3],\n",
    "    'neurons': [32,64],\n",
    "    'activation': ['relu'],\n",
    "    'dropout': [0.2,0.5],\n",
    "    'batch_size': [512]\n",
    "}\n",
    "\n",
    "\n",
    "stats = grid_search_cv(X_train, y_train,  \n",
    "                       space=params, cv=KFOLDS, \n",
    "                       optimizer=OPTIMIZER, \n",
    "                       loss=LOSS_FUNC, metrics=METRICS, \n",
    "                       epochs=EPOCHS, callbacks=[EARLY_STOP], seed=SEED, order=orders)"
   ]
  },
  {
   "cell_type": "code",
   "execution_count": 153,
   "id": "eec3a86a",
   "metadata": {},
   "outputs": [
    {
     "data": {
      "text/html": [
       "<div>\n",
       "<style scoped>\n",
       "    .dataframe tbody tr th:only-of-type {\n",
       "        vertical-align: middle;\n",
       "    }\n",
       "\n",
       "    .dataframe tbody tr th {\n",
       "        vertical-align: top;\n",
       "    }\n",
       "\n",
       "    .dataframe thead th {\n",
       "        text-align: right;\n",
       "    }\n",
       "</style>\n",
       "<table border=\"1\" class=\"dataframe\">\n",
       "  <thead>\n",
       "    <tr style=\"text-align: right;\">\n",
       "      <th></th>\n",
       "      <th>hidden_layers</th>\n",
       "      <th>neurons</th>\n",
       "      <th>activation</th>\n",
       "      <th>dropout</th>\n",
       "      <th>batch_size</th>\n",
       "      <th>epochs</th>\n",
       "      <th>val_loss</th>\n",
       "      <th>categorical_accuracy</th>\n",
       "      <th>precision</th>\n",
       "      <th>recall</th>\n",
       "      <th>auc</th>\n",
       "    </tr>\n",
       "  </thead>\n",
       "  <tbody>\n",
       "    <tr>\n",
       "      <th>11</th>\n",
       "      <td>3</td>\n",
       "      <td>64</td>\n",
       "      <td>relu</td>\n",
       "      <td>0.5</td>\n",
       "      <td>512</td>\n",
       "      <td>92.4</td>\n",
       "      <td>0.252789</td>\n",
       "      <td>0.885271</td>\n",
       "      <td>0.907896</td>\n",
       "      <td>0.860769</td>\n",
       "      <td>0.965433</td>\n",
       "    </tr>\n",
       "    <tr>\n",
       "      <th>8</th>\n",
       "      <td>3</td>\n",
       "      <td>32</td>\n",
       "      <td>relu</td>\n",
       "      <td>0.2</td>\n",
       "      <td>512</td>\n",
       "      <td>90.2</td>\n",
       "      <td>0.242413</td>\n",
       "      <td>0.888372</td>\n",
       "      <td>0.909822</td>\n",
       "      <td>0.863654</td>\n",
       "      <td>0.963966</td>\n",
       "    </tr>\n",
       "    <tr>\n",
       "      <th>6</th>\n",
       "      <td>2</td>\n",
       "      <td>64</td>\n",
       "      <td>relu</td>\n",
       "      <td>0.2</td>\n",
       "      <td>512</td>\n",
       "      <td>93.6</td>\n",
       "      <td>0.257294</td>\n",
       "      <td>0.883721</td>\n",
       "      <td>0.901583</td>\n",
       "      <td>0.867019</td>\n",
       "      <td>0.963365</td>\n",
       "    </tr>\n",
       "    <tr>\n",
       "      <th>9</th>\n",
       "      <td>3</td>\n",
       "      <td>32</td>\n",
       "      <td>relu</td>\n",
       "      <td>0.5</td>\n",
       "      <td>512</td>\n",
       "      <td>100.0</td>\n",
       "      <td>0.350276</td>\n",
       "      <td>0.883721</td>\n",
       "      <td>0.883919</td>\n",
       "      <td>0.888558</td>\n",
       "      <td>0.962212</td>\n",
       "    </tr>\n",
       "    <tr>\n",
       "      <th>7</th>\n",
       "      <td>2</td>\n",
       "      <td>64</td>\n",
       "      <td>relu</td>\n",
       "      <td>0.5</td>\n",
       "      <td>512</td>\n",
       "      <td>100.0</td>\n",
       "      <td>0.268009</td>\n",
       "      <td>0.883721</td>\n",
       "      <td>0.922558</td>\n",
       "      <td>0.838990</td>\n",
       "      <td>0.962067</td>\n",
       "    </tr>\n",
       "    <tr>\n",
       "      <th>5</th>\n",
       "      <td>2</td>\n",
       "      <td>32</td>\n",
       "      <td>relu</td>\n",
       "      <td>0.5</td>\n",
       "      <td>512</td>\n",
       "      <td>100.0</td>\n",
       "      <td>0.358749</td>\n",
       "      <td>0.882171</td>\n",
       "      <td>0.908465</td>\n",
       "      <td>0.854567</td>\n",
       "      <td>0.961779</td>\n",
       "    </tr>\n",
       "    <tr>\n",
       "      <th>10</th>\n",
       "      <td>3</td>\n",
       "      <td>64</td>\n",
       "      <td>relu</td>\n",
       "      <td>0.2</td>\n",
       "      <td>512</td>\n",
       "      <td>65.2</td>\n",
       "      <td>0.248681</td>\n",
       "      <td>0.883721</td>\n",
       "      <td>0.898243</td>\n",
       "      <td>0.866827</td>\n",
       "      <td>0.961731</td>\n",
       "    </tr>\n",
       "    <tr>\n",
       "      <th>4</th>\n",
       "      <td>2</td>\n",
       "      <td>32</td>\n",
       "      <td>relu</td>\n",
       "      <td>0.2</td>\n",
       "      <td>512</td>\n",
       "      <td>100.0</td>\n",
       "      <td>0.304290</td>\n",
       "      <td>0.875969</td>\n",
       "      <td>0.928979</td>\n",
       "      <td>0.817500</td>\n",
       "      <td>0.959567</td>\n",
       "    </tr>\n",
       "    <tr>\n",
       "      <th>1</th>\n",
       "      <td>1</td>\n",
       "      <td>32</td>\n",
       "      <td>relu</td>\n",
       "      <td>0.5</td>\n",
       "      <td>512</td>\n",
       "      <td>100.0</td>\n",
       "      <td>0.489030</td>\n",
       "      <td>0.877519</td>\n",
       "      <td>0.897091</td>\n",
       "      <td>0.854423</td>\n",
       "      <td>0.956899</td>\n",
       "    </tr>\n",
       "    <tr>\n",
       "      <th>0</th>\n",
       "      <td>1</td>\n",
       "      <td>32</td>\n",
       "      <td>relu</td>\n",
       "      <td>0.2</td>\n",
       "      <td>512</td>\n",
       "      <td>100.0</td>\n",
       "      <td>0.474731</td>\n",
       "      <td>0.869767</td>\n",
       "      <td>0.911504</td>\n",
       "      <td>0.823846</td>\n",
       "      <td>0.956611</td>\n",
       "    </tr>\n",
       "  </tbody>\n",
       "</table>\n",
       "</div>"
      ],
      "text/plain": [
       "    hidden_layers  neurons activation  dropout  batch_size  epochs  val_loss  \\\n",
       "11              3       64       relu      0.5         512    92.4  0.252789   \n",
       "8               3       32       relu      0.2         512    90.2  0.242413   \n",
       "6               2       64       relu      0.2         512    93.6  0.257294   \n",
       "9               3       32       relu      0.5         512   100.0  0.350276   \n",
       "7               2       64       relu      0.5         512   100.0  0.268009   \n",
       "5               2       32       relu      0.5         512   100.0  0.358749   \n",
       "10              3       64       relu      0.2         512    65.2  0.248681   \n",
       "4               2       32       relu      0.2         512   100.0  0.304290   \n",
       "1               1       32       relu      0.5         512   100.0  0.489030   \n",
       "0               1       32       relu      0.2         512   100.0  0.474731   \n",
       "\n",
       "    categorical_accuracy  precision    recall       auc  \n",
       "11              0.885271   0.907896  0.860769  0.965433  \n",
       "8               0.888372   0.909822  0.863654  0.963966  \n",
       "6               0.883721   0.901583  0.867019  0.963365  \n",
       "9               0.883721   0.883919  0.888558  0.962212  \n",
       "7               0.883721   0.922558  0.838990  0.962067  \n",
       "5               0.882171   0.908465  0.854567  0.961779  \n",
       "10              0.883721   0.898243  0.866827  0.961731  \n",
       "4               0.875969   0.928979  0.817500  0.959567  \n",
       "1               0.877519   0.897091  0.854423  0.956899  \n",
       "0               0.869767   0.911504  0.823846  0.956611  "
      ]
     },
     "execution_count": 153,
     "metadata": {},
     "output_type": "execute_result"
    }
   ],
   "source": [
    "stats.sort_values(by=['auc'], ascending=False).head(10)"
   ]
  },
  {
   "cell_type": "code",
   "execution_count": 178,
   "id": "36de0040",
   "metadata": {},
   "outputs": [
    {
     "name": "stdout",
     "output_type": "stream",
     "text": [
      "Model: \"Optimized_Deep_Network\"\n",
      "_________________________________________________________________\n",
      " Layer (type)                Output Shape              Param #   \n",
      "=================================================================\n",
      " dense_380 (Dense)           (None, 64)                320064    \n",
      "                                                                 \n",
      " dropout_246 (Dropout)       (None, 64)                0         \n",
      "                                                                 \n",
      " dense_381 (Dense)           (None, 64)                4160      \n",
      "                                                                 \n",
      " dropout_247 (Dropout)       (None, 64)                0         \n",
      "                                                                 \n",
      " dense_382 (Dense)           (None, 64)                4160      \n",
      "                                                                 \n",
      " dropout_248 (Dropout)       (None, 64)                0         \n",
      "                                                                 \n",
      " dense_383 (Dense)           (None, 1)                 65        \n",
      "                                                                 \n",
      "=================================================================\n",
      "Total params: 328,449\n",
      "Trainable params: 328,449\n",
      "Non-trainable params: 0\n",
      "_________________________________________________________________\n"
     ]
    }
   ],
   "source": [
    "opt_model = deep_neural_network(hidden_layers=3, hidden_neurons=64,\n",
    "                                dropout=0.5, activation='relu',\n",
    "                                input_dimension=INPUT_DIMENSION, \n",
    "                                output_dimension=OUTPUT_DIMENSION,\n",
    "                                optimizer=OPTIMIZER, \n",
    "                                loss=LOSS_FUNC, metrics=METRICS,\n",
    "                                name='Optimized_Deep_Network')\n",
    "\n",
    "opt_model.summary()"
   ]
  },
  {
   "cell_type": "code",
   "execution_count": 179,
   "id": "70ecf160",
   "metadata": {},
   "outputs": [],
   "source": [
    "trained_opt_model = train_deep_neural_network(opt_model, X_train, y_train,\n",
    "                                              batch_size=batch_size, epochs=EPOCHS, \n",
    "                                              val_data=(X_val, y_val), \n",
    "                                              callbacks=[EARLY_STOP], seed=SEED)"
   ]
  },
  {
   "cell_type": "code",
   "execution_count": 180,
   "id": "68adffd5",
   "metadata": {},
   "outputs": [
    {
     "data": {
      "image/png": "[encoded data removed]",
      "text/plain": [
       "<Figure size 1500x500 with 2 Axes>"
      ]
     },
     "metadata": {},
     "output_type": "display_data"
    }
   ],
   "source": [
    "plot_training_history(trained_opt_model['history'], monitors=['loss', 'AUC'])"
   ]
  },
  {
   "cell_type": "code",
   "execution_count": 181,
   "id": "a2a0e0fc",
   "metadata": {},
   "outputs": [
    {
     "name": "stdout",
     "output_type": "stream",
     "text": [
      "Accuracy (Validation): 0.88\n",
      "Precision (Validation): 0.88\n",
      "Recall (Validation): 0.89\n",
      "AUC (Validation): 0.97\n"
     ]
    }
   ],
   "source": [
    "print('Accuracy (Validation): {:.2f}'.format(trained_opt_model['val_score'][0]))\n",
    "print('Precision (Validation): {:.2f}'.format(trained_opt_model['val_score'][1]))\n",
    "print('Recall (Validation): {:.2f}'.format(trained_opt_model['val_score'][2]))\n",
    "print('AUC (Validation): {:.2f}'.format(trained_opt_model['val_score'][3]))"
   ]
  },
  {
   "cell_type": "code",
   "execution_count": 182,
   "id": "6166afee",
   "metadata": {},
   "outputs": [],
   "source": [
    "preds = trained_opt_model['model'].predict(X_val, verbose=0)"
   ]
  },
  {
   "cell_type": "code",
   "execution_count": 183,
   "id": "dc4aa5b7",
   "metadata": {},
   "outputs": [
    {
     "name": "stdout",
     "output_type": "stream",
     "text": [
      "Accuracy (Test): 0.74\n",
      "Precision (Test): 0.80\n",
      "Recall (Test): 0.84\n",
      "AUC (Test): 0.85\n"
     ]
    }
   ],
   "source": [
    "preds = trained_opt_model['model'].predict(X_test, verbose=0)\n",
    "\n",
    "print('Accuracy (Test): {:.2f}'.format(accuracy_score(y_test, \n",
    "                                                                        (preds > 0.5).astype('int32'))) )\n",
    "print('Precision (Test): {:.2f}'.format(precision_score(y_test, \n",
    "                                                       (preds > 0.5).astype('int32'))))\n",
    "print('Recall (Test): {:.2f}'.format(recall_score(y_test, \n",
    "                                                  (preds > 0.5).astype('int32'))))\n",
    "print('AUC (Test): {:.2f}'.format(roc_auc_score(y_test, preds)))"
   ]
  },
  {
   "cell_type": "code",
   "execution_count": 184,
   "id": "9afde204",
   "metadata": {
    "scrolled": false
   },
   "outputs": [
    {
     "data": {
      "image/png": "[encoded data removed]",
      "text/plain": [
       "<Figure size 640x480 with 2 Axes>"
      ]
     },
     "metadata": {},
     "output_type": "display_data"
    }
   ],
   "source": [
    "disp = ConfusionMatrixDisplay( confusion_matrix(y_test, (preds > 0.5).astype('int32')),  \n",
    "                              display_labels=['Negative', 'Positive'] )\n",
    "_ = disp.plot()"
   ]
  },
  {
   "cell_type": "markdown",
   "id": "6b1ee90a",
   "metadata": {},
   "source": [
    "## Analysing the optimal model\n",
    "\n",
    "By observation,\n",
    "- Validation Evaluation Scores: The evaluation metrics of the validation score could be better but it performing well. The AUC is 0.97, which is close to 1.0. The precision and recall is under 0.9 which is room for improvement.\n",
    "- AUC plot: The AUC curve is steep, and both training and validation sets are moving towards the top left. Showing that it is performing well\n",
    "- Loss Plot: The loss plot decreases over the epochs, but starts to flatten out around 30 epochs. The performance can be better\n",
    "- Confusion Matrix: The model is sub optimal to detect airline review sentiments."
   ]
  },
  {
   "cell_type": "markdown",
   "id": "7ef0d8ff",
   "metadata": {},
   "source": [
    "## Summary\n",
    "In this project, I worked on an airline review dataset. The raw dataset was preprocessed to make it suitable for a deep learning model.\n",
    "\n",
    "For a binary classifier model, I chose the measure of success to be Accuracy, Precision, Recall and the AUC as these are the metrics that can be used to evaluate a classifier that is balanced.\n",
    "\n",
    "Two evaluation metrics were tested which both produced similar findings on the data."
   ]
  }
 ],
 "metadata": {
  "kernelspec": {
   "display_name": "Python 3 (ipykernel)",
   "language": "python",
   "name": "python3"
  },
  "language_info": {
   "codemirror_mode": {
    "name": "ipython",
    "version": 3
   },
   "file_extension": ".py",
   "mimetype": "text/x-python",
   "name": "python",
   "nbconvert_exporter": "python",
   "pygments_lexer": "ipython3",
   "version": "3.9.16"
  }
 },
 "nbformat": 4,
 "nbformat_minor": 5
}
