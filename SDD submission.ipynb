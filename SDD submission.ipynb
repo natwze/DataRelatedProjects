{
 "cells": [
  {
   "cell_type": "code",
   "execution_count": 1,
   "id": "6962545f",
   "metadata": {},
   "outputs": [
    {
     "name": "stderr",
     "output_type": "stream",
     "text": [
      "test1_complement (__main__.TestsForSnakeStats) ... ok\n",
      "test1_intersect (__main__.TestsForSnakeStats) ... ok\n",
      "test1_union (__main__.TestsForSnakeStats) ... ok\n",
      "test2_complement (__main__.TestsForSnakeStats) ... ok\n",
      "test2_intersect (__main__.TestsForSnakeStats) ... ok\n",
      "test2_union (__main__.TestsForSnakeStats) ... ok\n",
      "test3_complement (__main__.TestsForSnakeStats) ... ok\n",
      "test3_intersect (__main__.TestsForSnakeStats) ... ok\n",
      "test3_union (__main__.TestsForSnakeStats) ... ok\n",
      "\n",
      "----------------------------------------------------------------------\n",
      "Ran 9 tests in 0.004s\n",
      "\n",
      "OK\n"
     ]
    },
    {
     "data": {
      "text/plain": [
       "<unittest.main.TestProgram at 0x1812db69c40>"
      ]
     },
     "execution_count": 1,
     "metadata": {},
     "output_type": "execute_result"
    }
   ],
   "source": [
    "import unittest\n",
    "import snakestats\n",
    "class TestsForSnakeStats(unittest.TestCase):\n",
    "    def test1_complement(self):\n",
    "        sets = [[1,2,3], [4,5,6]]\n",
    "        res = snakestats.complement(sets,sets[0])\n",
    "        self.assertEqual(res, [4,5,6])\n",
    "    \n",
    "    def test2_complement(self):\n",
    "        sets = [[1,2,3], [2,4,5,6]]\n",
    "        res = snakestats.complement(sets,sets[0])\n",
    "        self.assertEqual(res, [4,5,6])\n",
    "        \n",
    "    def test3_complement(self):\n",
    "        sets = [[1,2,3], [3,4,5,6], [5,6,7,8]]\n",
    "        res = snakestats.complement(sets,sets[0])\n",
    "        self.assertEqual(res, [4,5,6,7,8])\n",
    "        \n",
    "    def test1_union(self):\n",
    "        sets = [[1,2,3], [4,5,6]]\n",
    "        res = snakestats.union(sets[0],sets[1])\n",
    "        self.assertEqual(res, [1,2,3,4,5,6])\n",
    "        \n",
    "    def test2_union(self):\n",
    "        sets = [[1,2,3], [2,4,5,6]]\n",
    "        res = snakestats.union(sets[0],sets[1])\n",
    "        self.assertEqual(res, [1,2,3,4,5,6])\n",
    "        \n",
    "    def test3_union(self):\n",
    "        sets = [[1,2,3], [3,4,5,6], [5,7]]\n",
    "        res = snakestats.union(sets,[7,8])\n",
    "        self.assertEqual(res, [1,2,3,4,5,6,7,8])\n",
    "\n",
    "    def test1_intersect(self):\n",
    "        sets = [[1,2,3], [1,2,3]]\n",
    "        res = snakestats.intersect(sets[0],sets[1])\n",
    "        self.assertEqual(res, [1,2,3])\n",
    "\n",
    "    def test2_intersect(self):\n",
    "        sets = [[1,2,3], [2,4,5,6]]\n",
    "        res = snakestats.intersect(sets[0],sets[1])\n",
    "        self.assertEqual(res, [2])\n",
    "            \n",
    "    def test3_intersect(self):\n",
    "        sets = [[1,2,4,8], [2,6,8], [1,8]]\n",
    "        res = snakestats.intersect(sets,[8,16])\n",
    "        self.assertEqual(res, [8])\n",
    "        \n",
    "unittest.main(argv=['ignored', '-v'], exit=False)"
   ]
  },
  {
   "cell_type": "code",
   "execution_count": null,
   "id": "555bd2d3",
   "metadata": {},
   "outputs": [],
   "source": []
  }
 ],
 "metadata": {
  "kernelspec": {
   "display_name": "Python 3",
   "language": "python",
   "name": "python3"
  },
  "language_info": {
   "codemirror_mode": {
    "name": "ipython",
    "version": 3
   },
   "file_extension": ".py",
   "mimetype": "text/x-python",
   "name": "python",
   "nbconvert_exporter": "python",
   "pygments_lexer": "ipython3",
   "version": "3.9.1"
  }
 },
 "nbformat": 4,
 "nbformat_minor": 5
}
