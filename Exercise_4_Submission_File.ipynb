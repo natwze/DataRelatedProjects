{
 "cells": [
  {
   "cell_type": "markdown",
   "metadata": {},
   "source": [
    "# Exercise 4: Speech Recognition System"
   ]
  },
  {
   "cell_type": "markdown",
   "metadata": {},
   "source": [
    "## Importing and setting up system"
   ]
  },
  {
   "cell_type": "markdown",
   "metadata": {},
   "source": [
    "### Setting up system"
   ]
  },
  {
   "cell_type": "code",
   "execution_count": 1,
   "metadata": {},
   "outputs": [],
   "source": [
    "# Reload modules before executing user code before entering the execution of the code\n",
    "%load_ext autoreload\n",
    "%autoreload 2"
   ]
  },
  {
   "cell_type": "markdown",
   "metadata": {},
   "source": [
    "### Importing required libraries "
   ]
  },
  {
   "cell_type": "code",
   "execution_count": 2,
   "metadata": {},
   "outputs": [
    {
     "name": "stderr",
     "output_type": "stream",
     "text": [
      "C:\\Users\\karishma\\anaconda3\\envs\\New\\lib\\site-packages\\tqdm\\auto.py:22: TqdmWarning: IProgress not found. Please update jupyter and ipywidgets. See https://ipywidgets.readthedocs.io/en/stable/user_install.html\n",
      "  from .autonotebook import tqdm as notebook_tqdm\n",
      "C:\\Users\\karishma\\anaconda3\\envs\\New\\lib\\site-packages\\pydub\\utils.py:170: RuntimeWarning: Couldn't find ffmpeg or avconv - defaulting to ffmpeg, but may not work\n",
      "  warn(\"Couldn't find ffmpeg or avconv - defaulting to ffmpeg, but may not work\", RuntimeWarning)\n",
      "The torchaudio backend is switched to 'soundfile'. Note that 'sox_io' is not supported on Windows.\n",
      "torchvision is not available - cannot save figures\n",
      "The torchaudio backend is switched to 'soundfile'. Note that 'sox_io' is not supported on Windows.\n"
     ]
    }
   ],
   "source": [
    "# To access files \n",
    "# Offers classes representing filesystem paths for different Operating System\n",
    "from pathlib import Path\n",
    "# Allows us to run a commond in the Python script\n",
    "import os\n",
    "\n",
    "# Mathematical and data analytics libraries\n",
    "import pandas as pd\n",
    "import re\n",
    "import numpy as np\n",
    "\n",
    "# Provides runtime supports for type hints\n",
    "from typing import Dict, List, Tuple\n",
    "# Display progress bars\n",
    "from tqdm import tqdm\n",
    "# Provides access to unicode character database\n",
    "import unicodedata\n",
    "# Provide infrastructure for defining custom abstract base classes\n",
    "from abc import ABC, abstractclassmethod\n",
    "\n",
    "# Dealing with Audio data\n",
    "# Read and write audio files\n",
    "import soundfile as soundfile\n",
    "# To play sound given file name or resource\n",
    "from playsound import playsound\n",
    "# To read audio files\n",
    "from scipy.io import wavfile\n",
    "# Music and Audio analysis\n",
    "import librosa as librosa\n",
    "#  Noise reduction algorithm to reduce noise\n",
    "import noisereduce as nr\n",
    "# Audio management libraries\n",
    "from pydub import AudioSegment\n",
    "from pydub.playback import play\n",
    "\n",
    "\n",
    "# ASR algorithms \n",
    "# For deep neural networks\n",
    "import torch\n",
    "# Deep speech model \n",
    "import deepspeech as deepspeech\n",
    "# Speech brain pretrained model\n",
    "from speechbrain.pretrained import EncoderDecoderASR\n",
    "# Automatic Sppech Recognition - self-supervised training\n",
    "from transformers import Wav2Vec2Processor, Wav2Vec2ForCTC\n",
    "\n",
    "# Approximate the Word Error Rate (WER)\n",
    "from jiwer import wer"
   ]
  },
  {
   "cell_type": "markdown",
   "metadata": {},
   "source": [
    "## File Path"
   ]
  },
  {
   "cell_type": "code",
   "execution_count": 3,
   "metadata": {},
   "outputs": [],
   "source": [
    "from pathlib import Path\n",
    "\n",
    "modelPath = Path(\"./Models\")\n",
    "dataPath = Path(\"./required_files\")\n",
    "transcriptionsPath = dataPath / \"Ex4_audio_files_transcriptions.csv\""
   ]
  },
  {
   "cell_type": "markdown",
   "metadata": {},
   "source": [
    "# Text normalisation\n"
   ]
  },
  {
   "cell_type": "code",
   "execution_count": 4,
   "metadata": {},
   "outputs": [],
   "source": [
    "def Text_Normalize(word):\n",
    "    word = ''.join(i for i in unicodedata.normalize(\"NFD\", word) if unicodedata.category(i) != \"Mn\")\n",
    "    word = re.sub(\"[^A-Za-z0-9\\ ]+\", \"\", word)\n",
    "    word = re.sub(\"[\\s]+\", \" \", word)\n",
    "    return word.lower().strip()"
   ]
  },
  {
   "cell_type": "markdown",
   "metadata": {},
   "source": [
    "## Creating dataframe containing the normalized text"
   ]
  },
  {
   "cell_type": "code",
   "execution_count": 5,
   "metadata": {},
   "outputs": [
    {
     "data": {
      "text/html": [
       "<div>\n",
       "<style scoped>\n",
       "    .dataframe tbody tr th:only-of-type {\n",
       "        vertical-align: middle;\n",
       "    }\n",
       "\n",
       "    .dataframe tbody tr th {\n",
       "        vertical-align: top;\n",
       "    }\n",
       "\n",
       "    .dataframe thead th {\n",
       "        text-align: right;\n",
       "    }\n",
       "</style>\n",
       "<table border=\"1\" class=\"dataframe\">\n",
       "  <thead>\n",
       "    <tr style=\"text-align: right;\">\n",
       "      <th></th>\n",
       "      <th>locale</th>\n",
       "      <th>filename</th>\n",
       "      <th>y_true</th>\n",
       "    </tr>\n",
       "  </thead>\n",
       "  <tbody>\n",
       "    <tr>\n",
       "      <th>0</th>\n",
       "      <td>en</td>\n",
       "      <td>Ex4_audio_files/EN/checkin.wav</td>\n",
       "      <td>where is the checkin desk</td>\n",
       "    </tr>\n",
       "    <tr>\n",
       "      <th>1</th>\n",
       "      <td>en</td>\n",
       "      <td>Ex4_audio_files/EN/parents.wav</td>\n",
       "      <td>i have lost my parents</td>\n",
       "    </tr>\n",
       "    <tr>\n",
       "      <th>2</th>\n",
       "      <td>en</td>\n",
       "      <td>Ex4_audio_files/EN/suitcase.wav</td>\n",
       "      <td>please i have lost my suitcase</td>\n",
       "    </tr>\n",
       "    <tr>\n",
       "      <th>3</th>\n",
       "      <td>en</td>\n",
       "      <td>Ex4_audio_files/EN/what_time.wav</td>\n",
       "      <td>what time is my plane</td>\n",
       "    </tr>\n",
       "    <tr>\n",
       "      <th>4</th>\n",
       "      <td>en</td>\n",
       "      <td>Ex4_audio_files/EN/where.wav</td>\n",
       "      <td>where are the restaurants and shops</td>\n",
       "    </tr>\n",
       "    <tr>\n",
       "      <th>5</th>\n",
       "      <td>en</td>\n",
       "      <td>Ex4_audio_files/EN/your_sentence1.wav</td>\n",
       "      <td>where can i find the departure hall</td>\n",
       "    </tr>\n",
       "    <tr>\n",
       "      <th>6</th>\n",
       "      <td>en</td>\n",
       "      <td>Ex4_audio_files/EN/your_sentence2.wav</td>\n",
       "      <td>my luckage is missing from the baggage area</td>\n",
       "    </tr>\n",
       "    <tr>\n",
       "      <th>7</th>\n",
       "      <td>it</td>\n",
       "      <td>Ex4_audio_files/IT/checkin_it.wav</td>\n",
       "      <td>dove e il bancone</td>\n",
       "    </tr>\n",
       "    <tr>\n",
       "      <th>8</th>\n",
       "      <td>it</td>\n",
       "      <td>Ex4_audio_files/IT/parents_it.wav</td>\n",
       "      <td>ho perso i miei genitori</td>\n",
       "    </tr>\n",
       "    <tr>\n",
       "      <th>9</th>\n",
       "      <td>it</td>\n",
       "      <td>Ex4_audio_files/IT/suitcase_it.wav</td>\n",
       "      <td>per favore ho perso la mia valigia</td>\n",
       "    </tr>\n",
       "    <tr>\n",
       "      <th>10</th>\n",
       "      <td>it</td>\n",
       "      <td>Ex4_audio_files/IT/what_time_it.wav</td>\n",
       "      <td>a che ora e il mio aereo</td>\n",
       "    </tr>\n",
       "    <tr>\n",
       "      <th>11</th>\n",
       "      <td>it</td>\n",
       "      <td>Ex4_audio_files/IT/where_it.wav</td>\n",
       "      <td>dove sono i ristoranti e i negozi</td>\n",
       "    </tr>\n",
       "    <tr>\n",
       "      <th>12</th>\n",
       "      <td>es</td>\n",
       "      <td>Ex4_audio_files/ES/checkin_es.wav</td>\n",
       "      <td>donde estan los mostradores</td>\n",
       "    </tr>\n",
       "    <tr>\n",
       "      <th>13</th>\n",
       "      <td>es</td>\n",
       "      <td>Ex4_audio_files/ES/parents_es.wav</td>\n",
       "      <td>he perdido a mis padres</td>\n",
       "    </tr>\n",
       "    <tr>\n",
       "      <th>14</th>\n",
       "      <td>es</td>\n",
       "      <td>Ex4_audio_files/ES/suitcase_es.wav</td>\n",
       "      <td>por favor he perdido mi maleta</td>\n",
       "    </tr>\n",
       "    <tr>\n",
       "      <th>15</th>\n",
       "      <td>es</td>\n",
       "      <td>Ex4_audio_files/ES/what_time_es.wav</td>\n",
       "      <td>a que hora es mi avion</td>\n",
       "    </tr>\n",
       "    <tr>\n",
       "      <th>16</th>\n",
       "      <td>es</td>\n",
       "      <td>Ex4_audio_files/ES/where_es.wav</td>\n",
       "      <td>donde estan los restaurantes y las tiendas</td>\n",
       "    </tr>\n",
       "  </tbody>\n",
       "</table>\n",
       "</div>"
      ],
      "text/plain": [
       "   locale                               filename  \\\n",
       "0      en         Ex4_audio_files/EN/checkin.wav   \n",
       "1      en         Ex4_audio_files/EN/parents.wav   \n",
       "2      en        Ex4_audio_files/EN/suitcase.wav   \n",
       "3      en       Ex4_audio_files/EN/what_time.wav   \n",
       "4      en           Ex4_audio_files/EN/where.wav   \n",
       "5      en  Ex4_audio_files/EN/your_sentence1.wav   \n",
       "6      en  Ex4_audio_files/EN/your_sentence2.wav   \n",
       "7      it      Ex4_audio_files/IT/checkin_it.wav   \n",
       "8      it      Ex4_audio_files/IT/parents_it.wav   \n",
       "9      it     Ex4_audio_files/IT/suitcase_it.wav   \n",
       "10     it    Ex4_audio_files/IT/what_time_it.wav   \n",
       "11     it        Ex4_audio_files/IT/where_it.wav   \n",
       "12     es      Ex4_audio_files/ES/checkin_es.wav   \n",
       "13     es      Ex4_audio_files/ES/parents_es.wav   \n",
       "14     es     Ex4_audio_files/ES/suitcase_es.wav   \n",
       "15     es    Ex4_audio_files/ES/what_time_es.wav   \n",
       "16     es        Ex4_audio_files/ES/where_es.wav   \n",
       "\n",
       "                                         y_true  \n",
       "0                     where is the checkin desk  \n",
       "1                        i have lost my parents  \n",
       "2                please i have lost my suitcase  \n",
       "3                         what time is my plane  \n",
       "4           where are the restaurants and shops  \n",
       "5           where can i find the departure hall  \n",
       "6   my luckage is missing from the baggage area  \n",
       "7                             dove e il bancone  \n",
       "8                      ho perso i miei genitori  \n",
       "9            per favore ho perso la mia valigia  \n",
       "10                     a che ora e il mio aereo  \n",
       "11            dove sono i ristoranti e i negozi  \n",
       "12                  donde estan los mostradores  \n",
       "13                      he perdido a mis padres  \n",
       "14               por favor he perdido mi maleta  \n",
       "15                       a que hora es mi avion  \n",
       "16   donde estan los restaurantes y las tiendas  "
      ]
     },
     "execution_count": 5,
     "metadata": {},
     "output_type": "execute_result"
    }
   ],
   "source": [
    "# Creating a dataframe, df_text to display file language, filename and normalised textual data \n",
    "df_text = pd.read_csv(transcriptionsPath , header = 0)\n",
    "df_text['y_true'] = df_text.y_true.map(Text_Normalize)\n",
    "df_text"
   ]
  },
  {
   "cell_type": "markdown",
   "metadata": {},
   "source": [
    "## Remove background noise"
   ]
  },
  {
   "cell_type": "markdown",
   "metadata": {},
   "source": [
    "## English audio"
   ]
  },
  {
   "cell_type": "code",
   "execution_count": 6,
   "metadata": {},
   "outputs": [],
   "source": [
    "def remove_noise_en(aud_file):\n",
    "    # Assigning file path of the English Language files \n",
    "    file_path = '/Users/karishma/Desktop/SIM Y3 Modules/Sem 2/ISP/Mid Term Assignments Complete/Exercise 4/required_files/Ex4_audio_files/EN/'\n",
    "    \n",
    "    #Assigning name of file to be the audio file, aud_file\n",
    "    file_name = aud_file\n",
    "    \n",
    "    # Loading the audio file data\n",
    "    sample_rate, aud_data = wavfile.read(file_path + file_name)\n",
    "    \n",
    "    # Reducing noise using the reduce_noise method in the noisereduce library\n",
    "    noise_reduced = nr.reduce_noise(y=aud_data, sr = sample_rate)\n",
    "    \n",
    "    # Creating audio files with noice reduced audio \n",
    "    wavfile.write(aud_file, sample_rate, noise_reduced)\n",
    "    \n",
    "    # Replacing audio files with noises with the noise reduced audio files created\n",
    "    os.replace(\"/Users/karishma/Desktop/SIM Y3 Modules/Sem 2/ISP/Mid Term Assignments Complete/Exercise 4/\" + file_name, \"/Users/karishma/Desktop/SIM Y3 Modules/Sem 2/ISP/Mid Term Assignments Complete/Exercise 4/required_files/Ex4_audio_files/EN/\" + file_name)"
   ]
  },
  {
   "cell_type": "code",
   "execution_count": 7,
   "metadata": {},
   "outputs": [],
   "source": [
    "remove_noise_en(\"checkin.wav\")\n",
    "remove_noise_en(\"parents.wav\")\n",
    "remove_noise_en(\"suitcase.wav\")\n",
    "remove_noise_en(\"what_time.wav\")\n",
    "remove_noise_en(\"where.wav\")\n",
    "remove_noise_en(\"your_sentence1.wav\")\n",
    "remove_noise_en(\"your_sentence2.wav\")"
   ]
  },
  {
   "cell_type": "markdown",
   "metadata": {},
   "source": [
    "# Abstract Base Classes\n"
   ]
  },
  {
   "cell_type": "code",
   "execution_count": 8,
   "metadata": {},
   "outputs": [],
   "source": [
    "from abc import ABC, abstractclassmethod\n",
    "\n",
    "class AbstractASR:\n",
    "    @abstractclassmethod\n",
    "    def transcribe(self, filepath: Path) -> str:\n",
    "        raise ErrorMessage(\"Transcribe() method has not been implemented\")"
   ]
  },
  {
   "cell_type": "markdown",
   "metadata": {},
   "source": [
    "## DeepSpeech Model\n"
   ]
  },
  {
   "cell_type": "code",
   "execution_count": 9,
   "metadata": {},
   "outputs": [],
   "source": [
    "import deepspeech as deepspeech\n",
    "import librosa as librosa\n",
    "\n",
    "class DeepSpeechModel(AbstractASR):\n",
    "    model: deepspeech.Model\n",
    "\n",
    "    def __init__(self, model: str, folder: Path, scorer: str = None):\n",
    "        super(DeepSpeechModel, self).__init__()\n",
    "        modelFilePath = folder / f\"{model}.pbmm\"\n",
    "        self.model = deepspeech.Model(str(modelFilePath))\n",
    "        if not scorer:\n",
    "            scorer = model\n",
    "        scorerFilePath = folder / f\"{scorer}.scorer\"\n",
    "        if scorerFilePath.is_file():\n",
    "            self.model.enableExternalScorer(str(scorerFilePath))\n",
    "\n",
    "    def transcribe(self, filepath: Path):\n",
    "        audiofile = librosa.load(filepath, sr=self.model.sampleRate())[0]\n",
    "        audiofile = (audiofile * 32767).astype(np.int16)\n",
    "        return self.model.stt(audiofile)\n",
    "\n",
    "\n",
    "english_deepSpeech = DeepSpeechModel(model=\"deepspeech-0.9.3-models\", folder=modelPath )\n",
    "italian_deepSpeech = DeepSpeechModel(model=\"output_graph_it\", folder=modelPath)\n",
    "spanish_deepSpeech = DeepSpeechModel(model=\"output_graph_es\", scorer=\"kenlm_es\", folder=modelPath)\n"
   ]
  },
  {
   "cell_type": "markdown",
   "metadata": {},
   "source": [
    "# Transcription\n"
   ]
  },
  {
   "cell_type": "code",
   "execution_count": 10,
   "metadata": {},
   "outputs": [],
   "source": [
    "def getResults(df: pd.DataFrame, folder: Path, asr_engine: AbstractASR) -> pd.DataFrame:\n",
    "    df = df.copy()\n",
    "    for ix, filename in df.filename.iteritems():\n",
    "        y_pred = asr_engine.transcribe(filepath=folder / filename)\n",
    "        df.at[ix, \"y_pred\"] = y_pred\n",
    "    return df"
   ]
  },
  {
   "cell_type": "markdown",
   "metadata": {},
   "source": [
    "## English Word Error Rate Function"
   ]
  },
  {
   "cell_type": "code",
   "execution_count": 11,
   "metadata": {},
   "outputs": [],
   "source": [
    "from jiwer import wer\n",
    "\n",
    "def englishWER(): \n",
    "    values = range(7)\n",
    "    fileNameArray = []\n",
    "    ground_truth = []\n",
    "    hypothesis = []\n",
    "    werPercentage = []\n",
    "\n",
    "    for i in values:\n",
    "        fileNameArray.append(df_text.filename[i][19:])\n",
    "        pred = (\"en\", english_deepSpeech.transcribe(filepath=dataPath / df_text[df_text.locale == \"en\"].filename.values[i]))[1]\n",
    "        hypothesis.append(pred)\n",
    "        truth = df_text.y_true.map(Text_Normalize)[i]\n",
    "        ground_truth.append(truth)\n",
    "        error = str(round(wer(ground_truth[i], hypothesis[i])*100, 2))\n",
    "        werPercentage.append(error)\n",
    "\n",
    "    list_of_tuples = list(zip(fileNameArray, ground_truth, hypothesis, werPercentage))\n",
    "    list_of_tuples\n",
    "    df = pd.DataFrame(list_of_tuples,\n",
    "                      columns=['File', 'y_true', 'y_pred', 'WER%'])\n",
    "    return df"
   ]
  },
  {
   "cell_type": "markdown",
   "metadata": {},
   "source": [
    "## Italian Word Error Rate Function "
   ]
  },
  {
   "cell_type": "code",
   "execution_count": 12,
   "metadata": {},
   "outputs": [],
   "source": [
    "def italianWER():\n",
    "    values = range(5)\n",
    "    fileRange = range(7, 12)\n",
    "    fileNameArray = []\n",
    "    ground_truth = []\n",
    "    hypothesis = []\n",
    "    werPercentage = []\n",
    "\n",
    "    for i in fileRange:\n",
    "        fileNameArray.append(df_text.filename[i][19:])\n",
    "        truth = df_text.y_true.map(Text_Normalize)[i]\n",
    "        ground_truth.append(truth)\n",
    "\n",
    "    for i in values:\n",
    "        pred = (\"it\", italian_deepSpeech.transcribe(filepath=dataPath / df_text[df_text.locale == \"it\"].filename.values[i]))[1]\n",
    "        hypothesis.append(pred)\n",
    "        error = str(round(wer(ground_truth[i], hypothesis[i])*100, 2))\n",
    "        werPercentage.append(error)\n",
    "\n",
    "    list_of_tuples = list(zip(fileNameArray, ground_truth, hypothesis, werPercentage))\n",
    "    list_of_tuples\n",
    "    df = pd.DataFrame(list_of_tuples,\n",
    "                      columns=['File', 'y_true', 'y_pred', 'WER%'])\n",
    "    return df"
   ]
  },
  {
   "cell_type": "markdown",
   "metadata": {},
   "source": [
    "## Spanish Word Error Rate Function "
   ]
  },
  {
   "cell_type": "code",
   "execution_count": 13,
   "metadata": {},
   "outputs": [],
   "source": [
    "def spanishWER():\n",
    "    values = range(5)\n",
    "    fileRange = range(12, 17)\n",
    "    fileNameArray = []\n",
    "    ground_truth = []\n",
    "    hypothesis = []\n",
    "    werPercentage = []\n",
    "\n",
    "    for i in fileRange:\n",
    "        fileNameArray.append(df_text.filename[i][19:])\n",
    "        truth = df_text.y_true.map(Text_Normalize)[i]\n",
    "        ground_truth.append(truth)\n",
    "\n",
    "    for i in values:\n",
    "        pred = (\"es\", spanish_deepSpeech.transcribe(filepath=dataPath / df_text[df_text.locale == \"es\"].filename.values[i]))[1]\n",
    "        hypothesis.append(pred)\n",
    "        error = str(round(wer(ground_truth[i], hypothesis[i])*100, 2))\n",
    "        werPercentage.append(error)\n",
    "\n",
    "    list_of_tuples = list(zip(fileNameArray, ground_truth, hypothesis, werPercentage))\n",
    "    list_of_tuples\n",
    "    df = pd.DataFrame(list_of_tuples,\n",
    "                      columns=['File', 'y_true', 'y_pred', 'WER%'])\n",
    "    return df"
   ]
  },
  {
   "cell_type": "markdown",
   "metadata": {},
   "source": [
    "## English ASR results"
   ]
  },
  {
   "cell_type": "code",
   "execution_count": 15,
   "metadata": {
    "scrolled": true
   },
   "outputs": [
    {
     "data": {
      "text/html": [
       "<div>\n",
       "<style scoped>\n",
       "    .dataframe tbody tr th:only-of-type {\n",
       "        vertical-align: middle;\n",
       "    }\n",
       "\n",
       "    .dataframe tbody tr th {\n",
       "        vertical-align: top;\n",
       "    }\n",
       "\n",
       "    .dataframe thead th {\n",
       "        text-align: right;\n",
       "    }\n",
       "</style>\n",
       "<table border=\"1\" class=\"dataframe\">\n",
       "  <thead>\n",
       "    <tr style=\"text-align: right;\">\n",
       "      <th></th>\n",
       "      <th>locale</th>\n",
       "      <th>filename</th>\n",
       "      <th>y_true</th>\n",
       "      <th>y_pred</th>\n",
       "    </tr>\n",
       "  </thead>\n",
       "  <tbody>\n",
       "    <tr>\n",
       "      <th>0</th>\n",
       "      <td>en</td>\n",
       "      <td>Ex4_audio_files/EN/checkin.wav</td>\n",
       "      <td>where is the checkin desk</td>\n",
       "      <td>but</td>\n",
       "    </tr>\n",
       "    <tr>\n",
       "      <th>1</th>\n",
       "      <td>en</td>\n",
       "      <td>Ex4_audio_files/EN/parents.wav</td>\n",
       "      <td>i have lost my parents</td>\n",
       "      <td></td>\n",
       "    </tr>\n",
       "    <tr>\n",
       "      <th>2</th>\n",
       "      <td>en</td>\n",
       "      <td>Ex4_audio_files/EN/suitcase.wav</td>\n",
       "      <td>please i have lost my suitcase</td>\n",
       "      <td></td>\n",
       "    </tr>\n",
       "    <tr>\n",
       "      <th>3</th>\n",
       "      <td>en</td>\n",
       "      <td>Ex4_audio_files/EN/what_time.wav</td>\n",
       "      <td>what time is my plane</td>\n",
       "      <td></td>\n",
       "    </tr>\n",
       "    <tr>\n",
       "      <th>4</th>\n",
       "      <td>en</td>\n",
       "      <td>Ex4_audio_files/EN/where.wav</td>\n",
       "      <td>where are the restaurants and shops</td>\n",
       "      <td></td>\n",
       "    </tr>\n",
       "    <tr>\n",
       "      <th>5</th>\n",
       "      <td>en</td>\n",
       "      <td>Ex4_audio_files/EN/your_sentence1.wav</td>\n",
       "      <td>where can i find the departure hall</td>\n",
       "      <td>i</td>\n",
       "    </tr>\n",
       "    <tr>\n",
       "      <th>6</th>\n",
       "      <td>en</td>\n",
       "      <td>Ex4_audio_files/EN/your_sentence2.wav</td>\n",
       "      <td>my luckage is missing from the baggage area</td>\n",
       "      <td></td>\n",
       "    </tr>\n",
       "  </tbody>\n",
       "</table>\n",
       "</div>"
      ],
      "text/plain": [
       "  locale                               filename  \\\n",
       "0     en         Ex4_audio_files/EN/checkin.wav   \n",
       "1     en         Ex4_audio_files/EN/parents.wav   \n",
       "2     en        Ex4_audio_files/EN/suitcase.wav   \n",
       "3     en       Ex4_audio_files/EN/what_time.wav   \n",
       "4     en           Ex4_audio_files/EN/where.wav   \n",
       "5     en  Ex4_audio_files/EN/your_sentence1.wav   \n",
       "6     en  Ex4_audio_files/EN/your_sentence2.wav   \n",
       "\n",
       "                                        y_true y_pred  \n",
       "0                    where is the checkin desk    but  \n",
       "1                       i have lost my parents         \n",
       "2               please i have lost my suitcase         \n",
       "3                        what time is my plane         \n",
       "4          where are the restaurants and shops         \n",
       "5          where can i find the departure hall      i  \n",
       "6  my luckage is missing from the baggage area         "
      ]
     },
     "execution_count": 15,
     "metadata": {},
     "output_type": "execute_result"
    }
   ],
   "source": [
    "englishResults = getResults(df_text[df_text.locale == \"en\"], dataPath, english_deepSpeech)\n",
    "englishResults"
   ]
  },
  {
   "cell_type": "markdown",
   "metadata": {},
   "source": [
    "## English WER"
   ]
  },
  {
   "cell_type": "code",
   "execution_count": 16,
   "metadata": {},
   "outputs": [
    {
     "data": {
      "text/html": [
       "<div>\n",
       "<style scoped>\n",
       "    .dataframe tbody tr th:only-of-type {\n",
       "        vertical-align: middle;\n",
       "    }\n",
       "\n",
       "    .dataframe tbody tr th {\n",
       "        vertical-align: top;\n",
       "    }\n",
       "\n",
       "    .dataframe thead th {\n",
       "        text-align: right;\n",
       "    }\n",
       "</style>\n",
       "<table border=\"1\" class=\"dataframe\">\n",
       "  <thead>\n",
       "    <tr style=\"text-align: right;\">\n",
       "      <th></th>\n",
       "      <th>File</th>\n",
       "      <th>y_true</th>\n",
       "      <th>y_pred</th>\n",
       "      <th>WER%</th>\n",
       "    </tr>\n",
       "  </thead>\n",
       "  <tbody>\n",
       "    <tr>\n",
       "      <th>0</th>\n",
       "      <td>checkin.wav</td>\n",
       "      <td>where is the checkin desk</td>\n",
       "      <td>but</td>\n",
       "      <td>100.0</td>\n",
       "    </tr>\n",
       "    <tr>\n",
       "      <th>1</th>\n",
       "      <td>parents.wav</td>\n",
       "      <td>i have lost my parents</td>\n",
       "      <td></td>\n",
       "      <td>100.0</td>\n",
       "    </tr>\n",
       "    <tr>\n",
       "      <th>2</th>\n",
       "      <td>suitcase.wav</td>\n",
       "      <td>please i have lost my suitcase</td>\n",
       "      <td></td>\n",
       "      <td>100.0</td>\n",
       "    </tr>\n",
       "    <tr>\n",
       "      <th>3</th>\n",
       "      <td>what_time.wav</td>\n",
       "      <td>what time is my plane</td>\n",
       "      <td></td>\n",
       "      <td>100.0</td>\n",
       "    </tr>\n",
       "    <tr>\n",
       "      <th>4</th>\n",
       "      <td>where.wav</td>\n",
       "      <td>where are the restaurants and shops</td>\n",
       "      <td></td>\n",
       "      <td>100.0</td>\n",
       "    </tr>\n",
       "    <tr>\n",
       "      <th>5</th>\n",
       "      <td>your_sentence1.wav</td>\n",
       "      <td>where can i find the departure hall</td>\n",
       "      <td>i</td>\n",
       "      <td>85.71</td>\n",
       "    </tr>\n",
       "    <tr>\n",
       "      <th>6</th>\n",
       "      <td>your_sentence2.wav</td>\n",
       "      <td>my luckage is missing from the baggage area</td>\n",
       "      <td></td>\n",
       "      <td>100.0</td>\n",
       "    </tr>\n",
       "  </tbody>\n",
       "</table>\n",
       "</div>"
      ],
      "text/plain": [
       "                 File                                       y_true y_pred  \\\n",
       "0         checkin.wav                    where is the checkin desk    but   \n",
       "1         parents.wav                       i have lost my parents          \n",
       "2        suitcase.wav               please i have lost my suitcase          \n",
       "3       what_time.wav                        what time is my plane          \n",
       "4           where.wav          where are the restaurants and shops          \n",
       "5  your_sentence1.wav          where can i find the departure hall      i   \n",
       "6  your_sentence2.wav  my luckage is missing from the baggage area          \n",
       "\n",
       "    WER%  \n",
       "0  100.0  \n",
       "1  100.0  \n",
       "2  100.0  \n",
       "3  100.0  \n",
       "4  100.0  \n",
       "5  85.71  \n",
       "6  100.0  "
      ]
     },
     "execution_count": 16,
     "metadata": {},
     "output_type": "execute_result"
    }
   ],
   "source": [
    "englishWER()"
   ]
  },
  {
   "cell_type": "markdown",
   "metadata": {},
   "source": [
    "## Italian ASR results"
   ]
  },
  {
   "cell_type": "code",
   "execution_count": 17,
   "metadata": {
    "scrolled": true
   },
   "outputs": [
    {
     "data": {
      "text/html": [
       "<div>\n",
       "<style scoped>\n",
       "    .dataframe tbody tr th:only-of-type {\n",
       "        vertical-align: middle;\n",
       "    }\n",
       "\n",
       "    .dataframe tbody tr th {\n",
       "        vertical-align: top;\n",
       "    }\n",
       "\n",
       "    .dataframe thead th {\n",
       "        text-align: right;\n",
       "    }\n",
       "</style>\n",
       "<table border=\"1\" class=\"dataframe\">\n",
       "  <thead>\n",
       "    <tr style=\"text-align: right;\">\n",
       "      <th></th>\n",
       "      <th>locale</th>\n",
       "      <th>filename</th>\n",
       "      <th>y_true</th>\n",
       "      <th>y_pred</th>\n",
       "    </tr>\n",
       "  </thead>\n",
       "  <tbody>\n",
       "    <tr>\n",
       "      <th>7</th>\n",
       "      <td>it</td>\n",
       "      <td>Ex4_audio_files/IT/checkin_it.wav</td>\n",
       "      <td>dove e il bancone</td>\n",
       "      <td>i  i iiiiiieeeeeeeeeeeeeeeeeeeeaeeeeeaeeadove ...</td>\n",
       "    </tr>\n",
       "    <tr>\n",
       "      <th>8</th>\n",
       "      <td>it</td>\n",
       "      <td>Ex4_audio_files/IT/parents_it.wav</td>\n",
       "      <td>ho perso i miei genitori</td>\n",
       "      <td>i  i iiiiiieeeeeeeeeeeeeeeeeeeeaeeeeeaeeaoerso...</td>\n",
       "    </tr>\n",
       "    <tr>\n",
       "      <th>9</th>\n",
       "      <td>it</td>\n",
       "      <td>Ex4_audio_files/IT/suitcase_it.wav</td>\n",
       "      <td>per favore ho perso la mia valigia</td>\n",
       "      <td>i  i iiiiiieeeeeeeeeeeeeeeeeeeeaeeeeeaeeeeaoes...</td>\n",
       "    </tr>\n",
       "    <tr>\n",
       "      <th>10</th>\n",
       "      <td>it</td>\n",
       "      <td>Ex4_audio_files/IT/what_time_it.wav</td>\n",
       "      <td>a che ora e il mio aereo</td>\n",
       "      <td>i  i iiiiiieeeeeeeeeeeeeeeeeeeeaeeeeeaeeaa rag...</td>\n",
       "    </tr>\n",
       "    <tr>\n",
       "      <th>11</th>\n",
       "      <td>it</td>\n",
       "      <td>Ex4_audio_files/IT/where_it.wav</td>\n",
       "      <td>dove sono i ristoranti e i negozi</td>\n",
       "      <td>i  i iiiiiieeeeeeeeeeeeeeeeeeeeaeeeeeaeeaadove...</td>\n",
       "    </tr>\n",
       "  </tbody>\n",
       "</table>\n",
       "</div>"
      ],
      "text/plain": [
       "   locale                             filename  \\\n",
       "7      it    Ex4_audio_files/IT/checkin_it.wav   \n",
       "8      it    Ex4_audio_files/IT/parents_it.wav   \n",
       "9      it   Ex4_audio_files/IT/suitcase_it.wav   \n",
       "10     it  Ex4_audio_files/IT/what_time_it.wav   \n",
       "11     it      Ex4_audio_files/IT/where_it.wav   \n",
       "\n",
       "                                y_true  \\\n",
       "7                    dove e il bancone   \n",
       "8             ho perso i miei genitori   \n",
       "9   per favore ho perso la mia valigia   \n",
       "10            a che ora e il mio aereo   \n",
       "11   dove sono i ristoranti e i negozi   \n",
       "\n",
       "                                               y_pred  \n",
       "7   i  i iiiiiieeeeeeeeeeeeeeeeeeeeaeeeeeaeeadove ...  \n",
       "8   i  i iiiiiieeeeeeeeeeeeeeeeeeeeaeeeeeaeeaoerso...  \n",
       "9   i  i iiiiiieeeeeeeeeeeeeeeeeeeeaeeeeeaeeeeaoes...  \n",
       "10  i  i iiiiiieeeeeeeeeeeeeeeeeeeeaeeeeeaeeaa rag...  \n",
       "11  i  i iiiiiieeeeeeeeeeeeeeeeeeeeaeeeeeaeeaadove...  "
      ]
     },
     "execution_count": 17,
     "metadata": {},
     "output_type": "execute_result"
    }
   ],
   "source": [
    "italianResults = getResults(df_text[df_text.locale == \"it\"], dataPath, italian_deepSpeech)\n",
    "italianResults"
   ]
  },
  {
   "cell_type": "markdown",
   "metadata": {},
   "source": [
    "## Italian WER"
   ]
  },
  {
   "cell_type": "code",
   "execution_count": 18,
   "metadata": {
    "scrolled": true
   },
   "outputs": [
    {
     "data": {
      "text/html": [
       "<div>\n",
       "<style scoped>\n",
       "    .dataframe tbody tr th:only-of-type {\n",
       "        vertical-align: middle;\n",
       "    }\n",
       "\n",
       "    .dataframe tbody tr th {\n",
       "        vertical-align: top;\n",
       "    }\n",
       "\n",
       "    .dataframe thead th {\n",
       "        text-align: right;\n",
       "    }\n",
       "</style>\n",
       "<table border=\"1\" class=\"dataframe\">\n",
       "  <thead>\n",
       "    <tr style=\"text-align: right;\">\n",
       "      <th></th>\n",
       "      <th>File</th>\n",
       "      <th>y_true</th>\n",
       "      <th>y_pred</th>\n",
       "      <th>WER%</th>\n",
       "    </tr>\n",
       "  </thead>\n",
       "  <tbody>\n",
       "    <tr>\n",
       "      <th>0</th>\n",
       "      <td>checkin_it.wav</td>\n",
       "      <td>dove e il bancone</td>\n",
       "      <td>i  i iiiiiieeeeeeeeeeeeeeeeeeeeaeeeeeaeeadove ...</td>\n",
       "      <td>125.0</td>\n",
       "    </tr>\n",
       "    <tr>\n",
       "      <th>1</th>\n",
       "      <td>parents_it.wav</td>\n",
       "      <td>ho perso i miei genitori</td>\n",
       "      <td>i  i iiiiiieeeeeeeeeeeeeeeeeeeeaeeeeeaeeaoerso...</td>\n",
       "      <td>80.0</td>\n",
       "    </tr>\n",
       "    <tr>\n",
       "      <th>2</th>\n",
       "      <td>suitcase_it.wav</td>\n",
       "      <td>per favore ho perso la mia valigia</td>\n",
       "      <td>i  i iiiiiieeeeeeeeeeeeeeeeeeeeaeeeeeaeeeeaoes...</td>\n",
       "      <td>71.43</td>\n",
       "    </tr>\n",
       "    <tr>\n",
       "      <th>3</th>\n",
       "      <td>what_time_it.wav</td>\n",
       "      <td>a che ora e il mio aereo</td>\n",
       "      <td>i  i iiiiiieeeeeeeeeeeeeeeeeeeeaeeeeeaeeaa rag...</td>\n",
       "      <td>100.0</td>\n",
       "    </tr>\n",
       "    <tr>\n",
       "      <th>4</th>\n",
       "      <td>where_it.wav</td>\n",
       "      <td>dove sono i ristoranti e i negozi</td>\n",
       "      <td>i  i iiiiiieeeeeeeeeeeeeeeeeeeeaeeeeeaeeaadove...</td>\n",
       "      <td>85.71</td>\n",
       "    </tr>\n",
       "  </tbody>\n",
       "</table>\n",
       "</div>"
      ],
      "text/plain": [
       "               File                              y_true  \\\n",
       "0    checkin_it.wav                   dove e il bancone   \n",
       "1    parents_it.wav            ho perso i miei genitori   \n",
       "2   suitcase_it.wav  per favore ho perso la mia valigia   \n",
       "3  what_time_it.wav            a che ora e il mio aereo   \n",
       "4      where_it.wav   dove sono i ristoranti e i negozi   \n",
       "\n",
       "                                              y_pred   WER%  \n",
       "0  i  i iiiiiieeeeeeeeeeeeeeeeeeeeaeeeeeaeeadove ...  125.0  \n",
       "1  i  i iiiiiieeeeeeeeeeeeeeeeeeeeaeeeeeaeeaoerso...   80.0  \n",
       "2  i  i iiiiiieeeeeeeeeeeeeeeeeeeeaeeeeeaeeeeaoes...  71.43  \n",
       "3  i  i iiiiiieeeeeeeeeeeeeeeeeeeeaeeeeeaeeaa rag...  100.0  \n",
       "4  i  i iiiiiieeeeeeeeeeeeeeeeeeeeaeeeeeaeeaadove...  85.71  "
      ]
     },
     "execution_count": 18,
     "metadata": {},
     "output_type": "execute_result"
    }
   ],
   "source": [
    "italianWER()"
   ]
  },
  {
   "cell_type": "markdown",
   "metadata": {},
   "source": [
    "## Spanish ASR results"
   ]
  },
  {
   "cell_type": "code",
   "execution_count": 19,
   "metadata": {
    "scrolled": true
   },
   "outputs": [
    {
     "data": {
      "text/html": [
       "<div>\n",
       "<style scoped>\n",
       "    .dataframe tbody tr th:only-of-type {\n",
       "        vertical-align: middle;\n",
       "    }\n",
       "\n",
       "    .dataframe tbody tr th {\n",
       "        vertical-align: top;\n",
       "    }\n",
       "\n",
       "    .dataframe thead th {\n",
       "        text-align: right;\n",
       "    }\n",
       "</style>\n",
       "<table border=\"1\" class=\"dataframe\">\n",
       "  <thead>\n",
       "    <tr style=\"text-align: right;\">\n",
       "      <th></th>\n",
       "      <th>locale</th>\n",
       "      <th>filename</th>\n",
       "      <th>y_true</th>\n",
       "      <th>y_pred</th>\n",
       "    </tr>\n",
       "  </thead>\n",
       "  <tbody>\n",
       "    <tr>\n",
       "      <th>12</th>\n",
       "      <td>es</td>\n",
       "      <td>Ex4_audio_files/ES/checkin_es.wav</td>\n",
       "      <td>donde estan los mostradores</td>\n",
       "      <td></td>\n",
       "    </tr>\n",
       "    <tr>\n",
       "      <th>13</th>\n",
       "      <td>es</td>\n",
       "      <td>Ex4_audio_files/ES/parents_es.wav</td>\n",
       "      <td>he perdido a mis padres</td>\n",
       "      <td></td>\n",
       "    </tr>\n",
       "    <tr>\n",
       "      <th>14</th>\n",
       "      <td>es</td>\n",
       "      <td>Ex4_audio_files/ES/suitcase_es.wav</td>\n",
       "      <td>por favor he perdido mi maleta</td>\n",
       "      <td></td>\n",
       "    </tr>\n",
       "    <tr>\n",
       "      <th>15</th>\n",
       "      <td>es</td>\n",
       "      <td>Ex4_audio_files/ES/what_time_es.wav</td>\n",
       "      <td>a que hora es mi avion</td>\n",
       "      <td></td>\n",
       "    </tr>\n",
       "    <tr>\n",
       "      <th>16</th>\n",
       "      <td>es</td>\n",
       "      <td>Ex4_audio_files/ES/where_es.wav</td>\n",
       "      <td>donde estan los restaurantes y las tiendas</td>\n",
       "      <td></td>\n",
       "    </tr>\n",
       "  </tbody>\n",
       "</table>\n",
       "</div>"
      ],
      "text/plain": [
       "   locale                             filename  \\\n",
       "12     es    Ex4_audio_files/ES/checkin_es.wav   \n",
       "13     es    Ex4_audio_files/ES/parents_es.wav   \n",
       "14     es   Ex4_audio_files/ES/suitcase_es.wav   \n",
       "15     es  Ex4_audio_files/ES/what_time_es.wav   \n",
       "16     es      Ex4_audio_files/ES/where_es.wav   \n",
       "\n",
       "                                        y_true y_pred  \n",
       "12                 donde estan los mostradores         \n",
       "13                     he perdido a mis padres         \n",
       "14              por favor he perdido mi maleta         \n",
       "15                      a que hora es mi avion         \n",
       "16  donde estan los restaurantes y las tiendas         "
      ]
     },
     "execution_count": 19,
     "metadata": {},
     "output_type": "execute_result"
    }
   ],
   "source": [
    "spanishResults = getResults(df_text[df_text.locale == \"es\"], dataPath, spanish_deepSpeech)\n",
    "spanishResults"
   ]
  },
  {
   "cell_type": "markdown",
   "metadata": {},
   "source": [
    "## Spanish WER"
   ]
  },
  {
   "cell_type": "code",
   "execution_count": 20,
   "metadata": {},
   "outputs": [
    {
     "data": {
      "text/html": [
       "<div>\n",
       "<style scoped>\n",
       "    .dataframe tbody tr th:only-of-type {\n",
       "        vertical-align: middle;\n",
       "    }\n",
       "\n",
       "    .dataframe tbody tr th {\n",
       "        vertical-align: top;\n",
       "    }\n",
       "\n",
       "    .dataframe thead th {\n",
       "        text-align: right;\n",
       "    }\n",
       "</style>\n",
       "<table border=\"1\" class=\"dataframe\">\n",
       "  <thead>\n",
       "    <tr style=\"text-align: right;\">\n",
       "      <th></th>\n",
       "      <th>File</th>\n",
       "      <th>y_true</th>\n",
       "      <th>y_pred</th>\n",
       "      <th>WER%</th>\n",
       "    </tr>\n",
       "  </thead>\n",
       "  <tbody>\n",
       "    <tr>\n",
       "      <th>0</th>\n",
       "      <td>checkin_es.wav</td>\n",
       "      <td>donde estan los mostradores</td>\n",
       "      <td></td>\n",
       "      <td>100.0</td>\n",
       "    </tr>\n",
       "    <tr>\n",
       "      <th>1</th>\n",
       "      <td>parents_es.wav</td>\n",
       "      <td>he perdido a mis padres</td>\n",
       "      <td></td>\n",
       "      <td>100.0</td>\n",
       "    </tr>\n",
       "    <tr>\n",
       "      <th>2</th>\n",
       "      <td>suitcase_es.wav</td>\n",
       "      <td>por favor he perdido mi maleta</td>\n",
       "      <td></td>\n",
       "      <td>100.0</td>\n",
       "    </tr>\n",
       "    <tr>\n",
       "      <th>3</th>\n",
       "      <td>what_time_es.wav</td>\n",
       "      <td>a que hora es mi avion</td>\n",
       "      <td></td>\n",
       "      <td>100.0</td>\n",
       "    </tr>\n",
       "    <tr>\n",
       "      <th>4</th>\n",
       "      <td>where_es.wav</td>\n",
       "      <td>donde estan los restaurantes y las tiendas</td>\n",
       "      <td></td>\n",
       "      <td>100.0</td>\n",
       "    </tr>\n",
       "  </tbody>\n",
       "</table>\n",
       "</div>"
      ],
      "text/plain": [
       "               File                                      y_true y_pred   WER%\n",
       "0    checkin_es.wav                 donde estan los mostradores         100.0\n",
       "1    parents_es.wav                     he perdido a mis padres         100.0\n",
       "2   suitcase_es.wav              por favor he perdido mi maleta         100.0\n",
       "3  what_time_es.wav                      a que hora es mi avion         100.0\n",
       "4      where_es.wav  donde estan los restaurantes y las tiendas         100.0"
      ]
     },
     "execution_count": 20,
     "metadata": {},
     "output_type": "execute_result"
    }
   ],
   "source": [
    "spanishWER()"
   ]
  },
  {
   "cell_type": "markdown",
   "metadata": {},
   "source": [
    "# Average Word Error Rate"
   ]
  },
  {
   "cell_type": "code",
   "execution_count": 21,
   "metadata": {},
   "outputs": [],
   "source": [
    "import jiwer\n",
    "\n",
    "class AverageWER:\n",
    "    df: pd.DataFrame\n",
    "\n",
    "    def __init__(self, df: pd.DataFrame):\n",
    "        self.df = df\n",
    "\n",
    "    def getWER(self, asr_name: str = None) -> pd.DataFrame:\n",
    "        y_pred_column = \"y_pred\"\n",
    "        if asr_name:\n",
    "            y_pred_column = f\"{y_pred_column}_{asr_name}\"\n",
    "        wers = []\n",
    "        for y_true, y_pred in zip(self.df.y_true, self.df[y_pred_column]):\n",
    "            wers.append(jiwer.wer(y_true, y_pred))\n",
    "        return 100. * sum(wers) / len(wers)"
   ]
  },
  {
   "cell_type": "markdown",
   "metadata": {},
   "source": [
    "## Deep Speech Average WER For Languages\n"
   ]
  },
  {
   "cell_type": "code",
   "execution_count": 22,
   "metadata": {},
   "outputs": [
    {
     "data": {
      "text/plain": [
       "97.95918367346938"
      ]
     },
     "execution_count": 22,
     "metadata": {},
     "output_type": "execute_result"
    }
   ],
   "source": [
    "AverageWER(englishResults).getWER()"
   ]
  },
  {
   "cell_type": "code",
   "execution_count": 23,
   "metadata": {},
   "outputs": [
    {
     "data": {
      "text/plain": [
       "92.42857142857142"
      ]
     },
     "execution_count": 23,
     "metadata": {},
     "output_type": "execute_result"
    }
   ],
   "source": [
    "AverageWER(italianResults).getWER()"
   ]
  },
  {
   "cell_type": "code",
   "execution_count": 24,
   "metadata": {},
   "outputs": [
    {
     "data": {
      "text/plain": [
       "100.0"
      ]
     },
     "execution_count": 24,
     "metadata": {},
     "output_type": "execute_result"
    }
   ],
   "source": [
    "AverageWER(spanishResults).getWER()"
   ]
  }
 ],
 "metadata": {
  "kernelspec": {
   "display_name": "Python 3 (ipykernel)",
   "language": "python",
   "name": "python3"
  },
  "language_info": {
   "codemirror_mode": {
    "name": "ipython",
    "version": 3
   },
   "file_extension": ".py",
   "mimetype": "text/x-python",
   "name": "python",
   "nbconvert_exporter": "python",
   "pygments_lexer": "ipython3",
   "version": "3.9.15"
  },
  "vscode": {
   "interpreter": {
    "hash": "2eae4de737fc7bb56fc51d9b7910e57c2c74fec1d168a31b06f7eed62cd7bffe"
   }
  }
 },
 "nbformat": 4,
 "nbformat_minor": 2
}
